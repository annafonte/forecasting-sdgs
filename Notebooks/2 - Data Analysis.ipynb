{
 "cells": [
  {
   "cell_type": "markdown",
   "metadata": {},
   "source": [
    "# Importing libraries and datasets"
   ]
  },
  {
   "cell_type": "code",
   "execution_count": 1,
   "metadata": {
    "scrolled": true
   },
   "outputs": [],
   "source": [
    "import pandas as pd\n",
    "import numpy as np\n",
    "import datetime\n",
    "\n",
    "from sklearn.metrics import mean_squared_error, r2_score, mean_absolute_error\n",
    "import seaborn as sns\n",
    "import matplotlib.pyplot as plt\n",
    "import plotly\n",
    "%matplotlib inline\n",
    "\n",
    "import warnings\n",
    "warnings.filterwarnings('ignore')"
   ]
  },
  {
   "cell_type": "code",
   "execution_count": 2,
   "metadata": {},
   "outputs": [],
   "source": [
    "indicators16 = pd.read_csv(\"../Data/Clean/indicators2016.csv\")\n",
    "indicators17 = pd.read_csv(\"../Data/Clean/indicators2017.csv\")\n",
    "indicators18 = pd.read_csv(\"../Data/Clean/indicators2018.csv\")\n",
    "indicators19 = pd.read_csv(\"../Data/Clean/indicators2019.csv\")\n",
    "indicators20 = pd.read_csv(\"../Data/Clean/indicators2020.csv\")"
   ]
  },
  {
   "cell_type": "code",
   "execution_count": 3,
   "metadata": {},
   "outputs": [],
   "source": [
    "# Setting country as index in order to scale the data\n",
    "indicators16.set_index(\"countryname\", inplace=True)\n",
    "indicators17.set_index(\"country\", inplace=True)\n",
    "indicators18.set_index(\"country\", inplace=True)\n",
    "indicators19.set_index(\"Country\", inplace=True)\n",
    "indicators20.set_index(\"Country\", inplace=True)"
   ]
  },
  {
   "cell_type": "markdown",
   "metadata": {},
   "source": [
    "# Scaling the data"
   ]
  },
  {
   "cell_type": "markdown",
   "metadata": {},
   "source": [
    "In order to perform analysis, data needs to be scaled while preserving the variance between the indicators. This can be done with the `MinMaxScaler` from `Scikitlearn` library. Rescaling is usually very sensitive to the choice of limits and extreme values (outliers) at both tails of the distribution. Each indicator distribution is censored, so that all values exceeding the upper bound score 100, and values below the lower bound score 0."
   ]
  },
  {
   "cell_type": "code",
   "execution_count": 4,
   "metadata": {},
   "outputs": [],
   "source": [
    "from sklearn.preprocessing import MinMaxScaler\n",
    "scaler = MinMaxScaler(feature_range=(1,100)) # Initializing the scaler and setting the range from 1 to 100\n",
    "\n",
    "#Scaling 2016 df\n",
    "indicators16 = pd.DataFrame(scaler.fit_transform(indicators16),columns = indicators16.columns, index=indicators16.index)\n",
    "\n",
    "#Scaling 2017 df\n",
    "indicators17 = indicators17.replace(\"n.d.\", np.nan) # Transforming the n.d. values to NaN\n",
    "indicators17 = pd.DataFrame(scaler.fit_transform(indicators17),columns = indicators17.columns, index=indicators17.index)\n",
    "\n",
    "#Scaling the 2018 df\n",
    "indicators18 = pd.DataFrame(scaler.fit_transform(indicators18),columns = indicators18.columns, index=indicators18.index)\n",
    "\n",
    "#Scaling the 2019 df\n",
    "indicators19 = pd.DataFrame(scaler.fit_transform(indicators19),columns = indicators19.columns, index=indicators19.index)\n",
    "\n",
    "#Scaling the 2020 df\n",
    "indicators20 = pd.DataFrame(scaler.fit_transform(indicators20),columns = indicators20.columns, index=indicators20.index)"
   ]
  },
  {
   "cell_type": "markdown",
   "metadata": {},
   "source": [
    "## Dealing with ascending and descending variables"
   ]
  },
  {
   "cell_type": "markdown",
   "metadata": {},
   "source": [
    "In a few cases, indicator and criteria point in opposite directions. For example, a high under-five mortality rate signifies a low (rather than high) level of human assets."
   ]
  },
  {
   "cell_type": "code",
   "execution_count": 5,
   "metadata": {},
   "outputs": [],
   "source": [
    "# Ascendent is more value better, descendent is less value better\n",
    "descendent = ['sdg1_wpc', 'sdg1_320pov', 'sdg1_oecdpov', 'sdg2_undernsh', 'sdg2_stunting', 'sdg2_wasting', \n",
    "              'sdg2_obesity', 'sdg2_trophic', 'sdg2_snmi', 'sdg3_matmort', 'sdg3_neonat', 'sdg3_u5mort', \n",
    "              'sdg3_tb','sdg3_hiv', 'sdg3_ncds', 'sdg3_pollmort', 'sdg3_traffic','sdg17_cohaven', 'sdg16_prison',\n",
    "              'sdg16_homicides', 'sdg16_clabor', 'sdg16_weaponsexp', 'sdg3_fertility', 'sdg3_region', 'sdg3_smoke',\n",
    "              'sdg3_incomeg', 'sdg4_socioec', 'sdg4_science', 'sdg5_familypl', 'sdg5_paygap', 'sdg5_unpaid', 'sdg7_co2twh',\n",
    "              'sdg8_unemp', 'sdg8_impacc', 'sdg8_yneet', 'sdg10_adjgini', 'sdg10_palma', 'sdg10_elder', 'sdg11_pm25', \n",
    "              'sdg11_rentover', 'sdg12_msw', 'sdg12_ewaste', 'sdg12_so2prod', 'sdg12_so2import', 'sdg12_prodnitro', \n",
    "              'sdg12_reacnitro', 'sdg12_mswrecycl', 'sdg13_co2pc', 'sdg13_co2import', 'sdg13_co2export', 'sdg14_fishstocks',\n",
    "              'sdg14_trawl', 'sdg15_forchg', 'sdg16_detain', 'sdg16_rsf', 'sdg17_secrecy', 'sdg6_scarcew', \"sdg14_biomar\",\n",
    "              \"sdg15_biofrwter\", \"sdg17_sprofit\"]"
   ]
  },
  {
   "cell_type": "markdown",
   "metadata": {},
   "source": [
    "Expressing all the indicators as ascendent:"
   ]
  },
  {
   "cell_type": "code",
   "execution_count": 6,
   "metadata": {},
   "outputs": [],
   "source": [
    "# Defining a function to express all the indicators in an ascending or descending way\n",
    "\n",
    "def indicator_ascendance(df):\n",
    "    for i in df:\n",
    "        if i in descendent:\n",
    "            df[i] = 100 - df[i]\n",
    "            \n",
    "# Applying the function to all the years\n",
    "indicator_ascendance(indicators16)\n",
    "indicator_ascendance(indicators17)\n",
    "indicator_ascendance(indicators18)\n",
    "indicator_ascendance(indicators19)\n",
    "indicator_ascendance(indicators20)"
   ]
  },
  {
   "cell_type": "markdown",
   "metadata": {},
   "source": [
    "### Imputing the missing data with nearest neighbour imputation"
   ]
  },
  {
   "cell_type": "markdown",
   "metadata": {},
   "source": [
    "In order to impute missing values, which are important to deal with when it comes to forecasting, a range of different models can be used, although a simple k-nearest neighbor (KNN) model has proven to be effective in experiments. The use of a KNN model to predict or fill missing values is referred to as “Nearest Neighbor Imputation” or “KNN imputation”. The `KNNImputer` function from the Scikit Learn library has been used."
   ]
  },
  {
   "cell_type": "code",
   "execution_count": 7,
   "metadata": {},
   "outputs": [],
   "source": [
    "#Defining the imputer\n",
    "from sklearn.impute import KNNImputer\n",
    "imputer = KNNImputer(missing_values=np.nan, n_neighbors=5, weights='uniform', metric='nan_euclidean')\n",
    "\n",
    "# transform the 2016 dataset\n",
    "indicators16 = pd.DataFrame(imputer.fit_transform(indicators16),columns = indicators16.columns, index=indicators16.index)\n",
    "\n",
    "# transform the 2017 dataset\n",
    "indicators17 = pd.DataFrame(imputer.fit_transform(indicators17),columns = indicators17.columns, index=indicators17.index)\n",
    "\n",
    "# transform the 2018 dataset\n",
    "indicators18 = pd.DataFrame(imputer.fit_transform(indicators18),columns = indicators18.columns, index=indicators18.index)\n",
    "\n",
    "# transform the dataset\n",
    "indicators19 = pd.DataFrame(imputer.fit_transform(indicators19),columns = indicators19.columns, index=indicators19.index)\n",
    "\n",
    "# transform the dataset\n",
    "indicators20 = pd.DataFrame(imputer.fit_transform(indicators20),columns = indicators20.columns, index=indicators20.index)"
   ]
  },
  {
   "cell_type": "markdown",
   "metadata": {},
   "source": [
    "# Calculating each goal score and ranking column"
   ]
  },
  {
   "cell_type": "markdown",
   "metadata": {},
   "source": [
    "## 2016"
   ]
  },
  {
   "cell_type": "code",
   "execution_count": 8,
   "metadata": {},
   "outputs": [],
   "source": [
    "# Calculating goal scores\n",
    "indicators16[\"sdg1_score\"] = indicators16[[\"sdg1_wpc\",\"sdg1_oecdpov\"]].mean(axis=1)\n",
    "indicators16[\"sdg2_score\"] = indicators16[['sdg2_crlyld', 'sdg2_snmi', 'sdg2_obesity','sdg2_stunting', 'sdg2_undernsh', 'sdg2_wasting']].mean(axis=1)\n",
    "indicators16[\"sdg3_score\"] = indicators16[['sdg3_fertility','sdg3_lifee', 'sdg3_matmort', 'sdg3_neonat', 'sdg3_phys', 'sdg3_smoke','sdg3_swb', 'sdg3_tb', 'sdg3_traffic', 'sdg3_u5mort', 'sdg3_vac']].mean(axis=1)\n",
    "indicators16[\"sdg4_score\"] = indicators16[['sdg4_literacy', 'sdg4_pisa', 'sdg4_primary', 'sdg4_schlyrs','sdg4_tertiary', 'sdg4_upsec']].mean(axis=1)\n",
    "indicators16[\"sdg5_score\"] = indicators16[['sdg5_contra', 'sdg5_edat', 'sdg5_lfpr','sdg5_parl', 'sdg5_paygap']].mean(axis=1)\n",
    "indicators16[\"sdg6_score\"] = indicators16[['sdg6_freshwat', 'sdg6_water','sdg6_sanita']].mean(axis=1)\n",
    "indicators16[\"sdg7_score\"] = indicators16[['sdg7_elecac', 'sdg7_cleanfuel','sdg7_ren', 'sdg8_adjgrowth']].mean(axis=1)\n",
    "indicators16[\"sdg8_score\"] = indicators16[['sdg8_adjgrowth', 'sdg8_atms', 'sdg8_clabor_im','sdg8_empop', 'sdg8_unemp', 'sdg8_yneet']].mean(axis=1)\n",
    "indicators16[\"sdg9_score\"] = indicators16[['sdg9_infrqual','sdg9_intuse', 'sdg9_lpi', 'sdg9_mobuse', 'sdg9_patents', 'sdg9_rdres','sdg9_rdres.1']].mean(axis=1)\n",
    "indicators16[\"sdg10_score\"] = indicators16[['sdg10_adjgini', 'sdg10_justice', 'sdg10_palma']].mean(axis=1)\n",
    "indicators16[\"sdg11_score\"] = indicators16[['sdg11_pipedwat', 'sdg11_pm25', 'sdg11_rooms']].mean(axis=1)\n",
    "indicators16[\"sdg12_score\"] = indicators16[['sdg12_msw','sdg12_mswrecycl', 'sdg12_wastewat']].mean(axis=1)\n",
    "indicators16[\"sdg13_score\"] = indicators16[['sdg13_ccvm', 'sdg13_co2pc']].mean(axis=1)\n",
    "indicators16[\"sdg14_score\"] = indicators16[['sdg14_biodiv', 'sdg14_cleanwat', 'sdg14_cpma', 'sdg14_fish','sdg14_fishstocks']].mean(axis=1)\n",
    "indicators16[\"sdg15_score\"] = indicators16[['sdg15_cpta', 'sdg15_forchg', 'sdg15_redlist']].mean(axis=1)\n",
    "indicators16[\"sdg16_score\"] = indicators16[['sdg16_cpi', 'sdg16_goveff', 'sdg16_homicides', 'sdg16_prison','sdg16_prs', 'sdg16_safe', 'sdg16_u5reg']].mean(axis=1)\n",
    "indicators16[\"sdg17_score\"] = indicators16[['sdg17_govrev','sdg17_govspd', 'sdg17_oda']].mean(axis=1)\n",
    "indicators16[\"total_score\"] = indicators16.mean(axis=1)"
   ]
  },
  {
   "cell_type": "code",
   "execution_count": 9,
   "metadata": {
    "scrolled": true
   },
   "outputs": [],
   "source": [
    "# Creating column with ranking\n",
    "goal_scores16 = [col for col in indicators16.columns if col.endswith(\"_score\")] #Selecting the scores columns\n",
    "\n",
    "tups = indicators16[goal_scores16].sort_values(goal_scores16, ascending=False).apply(tuple, 1) \n",
    "f, i = pd.factorize(tups)\n",
    "factorized = pd.Series(f + 1, tups.index)\n",
    "indicators16 = indicators16.assign(rank=factorized)"
   ]
  },
  {
   "cell_type": "code",
   "execution_count": 10,
   "metadata": {},
   "outputs": [],
   "source": [
    "# Placing the rank column at the beggining and ordering the countries by rank\n",
    "cols16 = list(indicators16.columns)\n",
    "cols16 = [cols16[-1]] + cols16[:-1]\n",
    "indicators16 = indicators16[cols16]\n",
    "indicators16 = indicators16.sort_values(\"rank\").reset_index()"
   ]
  },
  {
   "cell_type": "markdown",
   "metadata": {},
   "source": [
    "## 2017"
   ]
  },
  {
   "cell_type": "code",
   "execution_count": 11,
   "metadata": {},
   "outputs": [],
   "source": [
    "# Calculating each goal score\n",
    "indicators17[\"sdg1_score\"] = indicators17[\"sdg1_wpc\"].mean()\n",
    "indicators17[\"sdg2_score\"] = indicators17[['sdg2_crlyld', 'sdg2_snmi', 'sdg2_obesity', 'sdg2_stunting','sdg2_undernsh', 'sdg2_wasting']].mean(axis=1)\n",
    "indicators17[\"sdg3_score\"] = indicators17[['sdg3_births', 'sdg3_fertility','sdg3_lifee', 'sdg3_hiv', 'sdg3_matmort', 'sdg3_ncds', 'sdg3_neonat','sdg3_pollmort', 'sdg3_smoke', 'sdg3_swb', 'sdg3_tb', 'sdg3_traffic','sdg3_u5mort', 'sdg3_uhc', 'sdg3_vac']].mean(axis=1)\n",
    "indicators17[\"sdg4_score\"] = indicators17[['sdg4_literacy', 'sdg4_pisa','sdg4_primary', 'sdg4_schlyrs', 'sdg4_tertiary']].mean(axis=1)\n",
    "indicators17[\"sdg5_score\"] = indicators17[['sdg5_edat', 'sdg5_lfpr', 'sdg5_parl', 'sdg5_paygap']].mean(axis=1)\n",
    "indicators17[\"sdg6_score\"] = indicators17[['sdg6_freshwat','sdg6_scarcew', 'sdg6_sanita', 'sdg6_water', 'sdg6_wastewat']].mean(axis=1)\n",
    "indicators17[\"sdg7_score\"] = indicators17[['sdg7_co2twh','sdg7_elecac', 'sdg7_cleanfuel', 'sdg7_ren']].mean(axis=1)\n",
    "indicators17[\"sdg8_score\"] = indicators17[['sdg8_accounts','sdg8_adjgrowth', 'sdg8_empop', 'sdg8_unemp','sdg8_yneet']].mean(axis=1)\n",
    "indicators17[\"sdg9_score\"] = indicators17[['sdg9_infrqual', 'sdg9_intuse', 'sdg9_lpi', 'sdg9_mobuse','sdg9_patents', 'sdg9_articles', 'sdg9_qs', 'sdg9_rdex', 'sdg9_rdres']].mean(axis=1)\n",
    "indicators17[\"sdg10_score\"] = indicators17[['sdg10_adjgini', 'sdg10_justice', 'sdg10_palma']].mean(axis=1)\n",
    "indicators17[\"sdg11_score\"] = indicators17[['sdg11_pipedwat','sdg11_pm25', 'sdg11_rentover']].mean(axis=1)\n",
    "indicators17[\"sdg12_score\"] = indicators17[['sdg12_ewaste', 'sdg12_msw','sdg12_mswrecycl', 'sdg12_prodnitro', 'sdg12_so2prod','sdg12_reacnitro', 'sdg12_so2import']].mean(axis=1)\n",
    "indicators17[\"sdg13_score\"] = indicators17[['sdg13_ccvm','sdg13_co2import', 'sdg13_co2pc', 'sdg13_ecr']].mean(axis=1)\n",
    "indicators17[\"sdg14_score\"] = indicators17[['sdg14_biodiv','sdg14_cleanwat', 'sdg14_cpma', 'sdg14_fish', 'sdg14_fishstocks']].mean(axis=1)\n",
    "indicators17[\"sdg15_score\"] = indicators17[['sdg15_cpfa', 'sdg15_cpta', 'sdg15_forchg', 'sdg15_biofrwter','sdg15_redlist']].mean(axis=1)\n",
    "indicators17[\"sdg16_score\"] = indicators17[['sdg16_clabor','sdg16_cpi', 'sdg16_goveff', 'sdg16_homicides','sdg16_prison', 'sdg16_prs', 'sdg16_safe', 'sdg8_slavery','sdg16_u5reg', 'sdg16_weaponsexp']].mean(axis=1)\n",
    "indicators17[\"sdg17_score\"] = indicators17[['sdg17_govex', 'sdg17_govspd','sdg17_secrecy', 'sdg17_cohaven']].mean(axis=1)\n",
    "indicators17[\"total_score\"] = indicators17.mean(axis=1)"
   ]
  },
  {
   "cell_type": "code",
   "execution_count": 12,
   "metadata": {},
   "outputs": [],
   "source": [
    "# Creating column with ranking\n",
    "goal_scores17 = [col for col in indicators17.columns if col.endswith(\"_score\")]\n",
    "\n",
    "tups = indicators17[goal_scores17].sort_values(goal_scores17, ascending=False).apply(tuple, 1)\n",
    "f, i = pd.factorize(tups)\n",
    "factorized = pd.Series(f + 1, tups.index)\n",
    "indicators17 = indicators17.assign(rank=factorized)"
   ]
  },
  {
   "cell_type": "code",
   "execution_count": 13,
   "metadata": {},
   "outputs": [],
   "source": [
    "# Placing the rank column at the beggining\n",
    "cols17 = list(indicators17.columns)\n",
    "cols17 = [cols17[-1]] + cols17[:-1]\n",
    "indicators17 = indicators17[cols17]\n",
    "indicators17 = indicators17.sort_values(\"rank\").reset_index()"
   ]
  },
  {
   "cell_type": "markdown",
   "metadata": {},
   "source": [
    "## 2018"
   ]
  },
  {
   "cell_type": "code",
   "execution_count": 14,
   "metadata": {},
   "outputs": [],
   "source": [
    "# Calculating each goal score\n",
    "indicators18[\"sdg1_score\"] = indicators18[['sdg1_wpc', 'sdg1_oecdpov']].mean(axis=1)\n",
    "indicators18[\"sdg2_score\"] = indicators18[['sdg2_undernsh', 'sdg2_stunting', 'sdg2_wasting', 'sdg2_obesity', 'sdg2_crlyld', 'sdg2_snmi']].mean(axis=1)\n",
    "indicators18[\"sdg3_score\"] = indicators18[['sdg3_matmort', 'sdg3_neonat', 'sdg3_u5mort', 'sdg3_tb', 'sdg3_hiv', 'sdg3_ncds', 'sdg3_pollmort', 'sdg3_traffic', 'sdg3_lifee', 'sdg3_fertility', 'sdg3_births', 'sdg3_vac', 'sdg3_uhc', 'sdg3_swb', 'sdg3_incomeg', 'sdg3_region', 'sdg3_smoke']].mean(axis=1)\n",
    "indicators18[\"sdg4_score\"] = indicators18[['sdg4_primary', 'sdg4_schlyrs', 'sdg4_literacy', 'sdg4_pisa', 'sdg4_resil', 'sdg4_science', 'sdg4_socioec', 'sdg4_tertiary']].mean(axis=1)\n",
    "indicators18[\"sdg5_score\"] = indicators18[['sdg5_paygap','sdg5_familypl', 'sdg5_edat', 'sdg5_lfpr', 'sdg5_parl']].mean(axis=1)\n",
    "indicators18[\"sdg6_score\"] = indicators18[['sdg6_safesan', 'Population using at least basic sanitation services (%)', 'sdg6_safewat', 'sdg6_water', 'sdg6_freshwat', 'sdg6_scarcew', 'sdg6_wastewat']].mean(axis=1)\n",
    "indicators18[\"sdg7_score\"] = indicators18[['sdg7_ren','sdg7_elecac', 'sdg7_cleanfuel', 'sdg7_co2twh']].mean(axis=1)\n",
    "indicators18[\"sdg8_score\"] = indicators18[['sdg8_empop', 'sdg8_yneet','sdg8_adjgrowth', 'sdg8_slavery', 'sdg8_accounts', 'sdg8_unemp']].mean(axis=1)\n",
    "indicators18[\"sdg9_score\"] = indicators18[['sdg9_netacc', 'sdg9_patents', 'sdg9_rdres', 'sdg9_womensci', 'sdg9_intuse', 'sdg9_mobuse', 'sdg9_infrqual', 'sdg9_lpi', 'sdg9_qs', 'sdg9_articles', 'sdg9_rdex']].mean(axis=1)\n",
    "indicators18[\"sdg10_score\"] = indicators18[['sdg10_elder', 'sdg10_palma','sdg10_adjgini', ]].mean(axis=1)\n",
    "indicators18[\"sdg11_score\"] = indicators18[['sdg11_rentover','sdg11_pm25', 'sdg11_pipedwat', 'sdg11_transport', ]].mean(axis=1)\n",
    "indicators18[\"sdg12_score\"] = indicators18[['sdg12_mswrecycl','sdg12_msw', 'sdg12_ewaste', 'sdg12_so2prod', 'sdg12_so2import', 'sdg12_prodnitro', 'sdg12_reacnitro']].mean(axis=1)\n",
    "indicators18[\"sdg13_score\"] = indicators18[['sdg13_ecr','sdg13_co2pc', 'sdg13_co2import', 'sdg13_ccvm', 'sdg13_co2export']].mean(axis=1)\n",
    "indicators18[\"sdg14_score\"] = indicators18[['sdg14_cpma', 'sdg14_biodiv', 'sdg14_cleanwat', 'sdg14_fish', 'sdg14_fishstocks', 'sdg14_trawl']].mean(axis=1)\n",
    "indicators18[\"sdg15_score\"] = indicators18[['sdg15_cpta', 'sdg15_cpfa', 'sdg15_redlist', 'sdg15_forchg', 'sdg15_biofrwter']].mean(axis=1)\n",
    "indicators18[\"sdg16_score\"] = indicators18[['sdg16_homicides', 'sdg16_prison', 'sdg16_safe', 'sdg16_goveff', 'sdg16_prs', 'sdg16_u5reg', 'sdg16_cpi', 'sdg16_clabor', 'sdg16_weaponsexp']].mean(axis=1)\n",
    "indicators18[\"sdg17_score\"] = indicators18[['sdg17_secrecy','sdg17_govex', 'sdg17_govspd', 'sdg17_govrev', 'sdg17_cohaven']].mean(axis=1)\n",
    "indicators18[\"total_score\"] = indicators18.mean(axis=1)"
   ]
  },
  {
   "cell_type": "code",
   "execution_count": 15,
   "metadata": {
    "scrolled": true
   },
   "outputs": [],
   "source": [
    "# Creating column with ranking\n",
    "goal_scores18 = [col for col in indicators18.columns if col.endswith(\"_score\")]\n",
    "\n",
    "tups = indicators18[goal_scores18].sort_values(goal_scores18, ascending=False).apply(tuple, 1)\n",
    "f, i = pd.factorize(tups)\n",
    "factorized = pd.Series(f + 1, tups.index)\n",
    "indicators18 = indicators18.assign(rank=factorized)"
   ]
  },
  {
   "cell_type": "code",
   "execution_count": 16,
   "metadata": {},
   "outputs": [],
   "source": [
    "# Placing the rank column at the beggining\n",
    "cols18 = list(indicators18.columns)\n",
    "cols18 = [cols18[-1]] + cols18[:-1]\n",
    "indicators18 = indicators18[cols18]\n",
    "indicators18 = indicators18.sort_values(\"rank\").reset_index()"
   ]
  },
  {
   "cell_type": "markdown",
   "metadata": {},
   "source": [
    "## 2019"
   ]
  },
  {
   "cell_type": "code",
   "execution_count": 17,
   "metadata": {},
   "outputs": [],
   "source": [
    "# Calculating each goal score\n",
    "indicators19[\"sdg1_score\"] = indicators19[['sdg1_wpc', 'sdg1_320pov', 'sdg1_oecdpov']].mean(axis=1)\n",
    "indicators19[\"sdg2_score\"] = indicators19[['sdg2_undernsh', 'sdg2_stunting', 'sdg2_wasting', 'sdg2_obesity', 'sdg2_crlyld', 'sdg2_snmi', 'sdg2_yieldgap', 'sdg2_trophic']].mean(axis=1)\n",
    "indicators19[\"sdg3_score\"] = indicators19[['sdg3_matmort', 'sdg3_neonat', 'sdg3_u5mort', 'sdg3_tb', 'sdg3_hiv', 'sdg3_ncds', 'sdg3_pollmort', 'sdg3_traffic', 'sdg3_lifee', 'sdg3_fertility', 'sdg3_births', 'sdg3_vac', 'sdg3_uhc', 'sdg3_swb', 'sdg3_region', 'sdg3_incomeg', 'sdg3_smoke']].mean(axis=1)\n",
    "indicators19[\"sdg4_score\"] = indicators19[['sdg4_primary', 'sdg4_second', 'sdg4_literacy', 'sdg4_earlyedu', 'sdg4_tertiary', 'sdg4_pisa', 'sdg4_socioec', 'sdg4_science', 'sdg4_resil']].mean(axis=1)\n",
    "indicators19[\"sdg5_score\"] = indicators19[['sdg5_familypl', 'sdg5_edat', 'sdg5_lfpr', 'sdg5_parl', 'sdg5_paygap', 'sdg5_unpaid']].mean(axis=1)\n",
    "indicators19[\"sdg6_score\"] = indicators19[['sdg6_water', 'sdg6_sanita', 'sdg6_freshwat', 'sdg6_scarcew', 'sdg6_wastewat', 'sdg6_safewat', 'sdg6_safesan']].mean(axis=1)\n",
    "indicators19[\"sdg7_score\"] = indicators19[['sdg7_elecac', 'sdg7_cleanfuel', 'sdg7_co2twh', 'sdg7_ren']].mean(axis=1)\n",
    "indicators19[\"sdg8_score\"] = indicators19[['sdg8_adjgrowth', 'sdg8_slavery', 'sdg8_accounts', 'sdg8_unemp', 'sdg8_impacc', 'sdg8_empop', 'sdg8_yneet']].mean(axis=1)\n",
    "indicators19[\"sdg9_score\"] = indicators19[['sdg9_intuse', 'sdg9_mobuse', 'sdg9_lpi', 'sdg9_qs', 'sdg9_articles', 'sdg9_rdex', 'sdg9_rdres', 'sdg9_patents', 'sdg9_netacc', 'sdg9_womensci']].mean(axis=1)\n",
    "indicators19[\"sdg10_score\"] = indicators19[['sdg10_adjgini', 'sdg10_palma', 'sdg10_elder']].mean(axis=1)\n",
    "indicators19[\"sdg11_score\"] = indicators19[['sdg11_pm25', 'sdg11_pipedwat', 'sdg11_transport', 'sdg11_rentover']].mean(axis=1)\n",
    "indicators19[\"sdg12_score\"] = indicators19[['sdg12_msw', 'sdg12_ewaste', 'sdg12_so2prod', 'sdg12_so2import', 'sdg12_prodnitro', 'sdg12_reacnitro', 'sdg12_mswrecycl']].mean(axis=1)\n",
    "indicators19[\"sdg13_score\"] = indicators19[['sdg13_co2pc', 'sdg13_co2import', 'sdg13_co2export', 'sdg13_ecr']].mean(axis=1)\n",
    "indicators19[\"sdg14_score\"] = indicators19[['sdg14_cpma', 'sdg14_cleanwat', 'sdg14_fishstocks', 'sdg14_trawl']].mean(axis=1)\n",
    "indicators19[\"sdg15_score\"] = indicators19[['sdg15_cpta', 'sdg15_cpfa', 'sdg15_redlist', 'sdg15_forchg', 'sdg15_biofrwter']].mean(axis=1)\n",
    "indicators19[\"sdg16_score\"] = indicators19[['sdg16_homicides', 'sdg16_detain', 'sdg16_safe', 'sdg16_prs', 'sdg16_u5reg', 'sdg16_cpi', 'sdg16_clabor', 'sdg16_weaponsexp', 'sdg16_rsf', 'sdg16_prison']].mean(axis=1)\n",
    "indicators19[\"sdg17_score\"] = indicators19[['sdg17_govex', 'sdg17_oda', 'sdg17_govrev', 'sdg17_cohaven', 'sdg17_secrecy']].mean(axis=1)\n",
    "indicators19[\"total_score\"] = indicators19.mean(axis=1)"
   ]
  },
  {
   "cell_type": "code",
   "execution_count": 18,
   "metadata": {},
   "outputs": [],
   "source": [
    "# Creating column with ranking\n",
    "goal_scores19 = [col for col in indicators18.columns if col.endswith(\"_score\")]\n",
    "\n",
    "tups = indicators19[goal_scores19].sort_values(goal_scores19, ascending=False).apply(tuple, 1)\n",
    "f, i = pd.factorize(tups)\n",
    "factorized = pd.Series(f + 1, tups.index)\n",
    "indicators19 = indicators19.assign(rank=factorized)"
   ]
  },
  {
   "cell_type": "code",
   "execution_count": 19,
   "metadata": {},
   "outputs": [],
   "source": [
    "# Placing the rank column at the beggining\n",
    "cols19 = list(indicators19.columns)\n",
    "cols19 = [cols19[-1]] + cols19[:-1]\n",
    "indicators19 = indicators19[cols19]\n",
    "indicators19 = indicators19.sort_values(\"rank\").reset_index()"
   ]
  },
  {
   "cell_type": "markdown",
   "metadata": {},
   "source": [
    "## 2020"
   ]
  },
  {
   "cell_type": "code",
   "execution_count": 20,
   "metadata": {},
   "outputs": [],
   "source": [
    "# Calculating each goal score\n",
    "indicators20[\"sdg1_score\"] = indicators20[['sdg1_wpc', 'sdg1_320pov', 'sdg1_oecdpov']].mean(axis=1)\n",
    "indicators20[\"sdg2_score\"] = indicators20[['sdg2_undernsh', 'sdg2_stunting', 'sdg2_wasting', 'sdg2_obesity', 'sdg2_trophic', 'sdg2_crlyld', 'sdg2_snmi', 'sdg2_yieldgap']].mean(axis=1)\n",
    "indicators20[\"sdg3_score\"] = indicators20[['sdg3_matmort', 'sdg3_neonat', 'sdg3_u5mort', 'sdg3_tb', 'sdg3_hiv', 'sdg3_ncds', 'sdg3_pollmort', 'sdg3_traffic', 'sdg3_lifee', 'sdg3_fertility', 'sdg3_births', 'sdg3_vac', 'sdg3_uhc', 'sdg3_swb', 'sdg3_region', 'sdg3_incomeg', 'sdg3_smoke']].mean(axis=1)\n",
    "indicators20[\"sdg4_score\"] = indicators20[['sdg4_primary', 'sdg4_second', 'sdg4_literacy', 'sdg4_earlyedu', 'sdg4_tertiary', 'sdg4_pisa', 'sdg4_socioec', 'sdg4_science', 'sdg4_resil']].mean(axis=1)\n",
    "indicators20[\"sdg5_score\"] = indicators20[['sdg5_familypl', 'sdg5_edat', 'sdg5_lfpr', 'sdg5_parl', 'sdg5_paygap', 'sdg5_unpaid']].mean(axis=1)\n",
    "indicators20[\"sdg6_score\"] = indicators20[['sdg6_water', 'sdg6_sanita', 'sdg6_freshwat', 'sdg6_wastewat', 'sdg6_scarcew', 'sdg6_safewat', 'sdg6_safesan']].mean(axis=1)\n",
    "indicators20[\"sdg7_score\"] = indicators20[['sdg7_elecac', 'sdg7_cleanfuel', 'sdg7_co2twh', 'sdg7_ren']].mean(axis=1)\n",
    "indicators20[\"sdg8_score\"] = indicators20[['sdg8_adjgrowth', 'sdg8_slavery', 'sdg8_accounts', 'sdg8_unemp', 'sdg8_impacc', 'sdg8_empop', 'sdg8_yneet']].mean(axis=1)\n",
    "indicators20[\"sdg9_score\"] = indicators20[['sdg9_intuse', 'sdg9_mobuse', 'sdg9_lpi', 'sdg9_qs', 'sdg9_articles', 'sdg9_rdex', 'sdg9_rdres', 'sdg9_patents', 'sdg9_netacc', 'sdg9_womensci']].mean(axis=1)\n",
    "indicators20[\"sdg10_score\"] = indicators20[['sdg10_adjgini', 'sdg10_palma', 'sdg10_elder']].mean(axis=1)\n",
    "indicators20[\"sdg11_score\"] = indicators20[['sdg11_pm25', 'sdg11_pipedwat', 'sdg11_transport', 'sdg11_rentover']].mean(axis=1)\n",
    "indicators20[\"sdg12_score\"] = indicators20[['sdg12_msw', 'sdg12_ewaste', 'sdg12_so2prod', 'sdg12_so2import', 'sdg12_prodnitro', 'sdg12_reacnitro', 'sdg12_mswrecycl']].mean(axis=1)\n",
    "indicators20[\"sdg13_score\"] = indicators20[['sdg13_co2pc', 'sdg13_co2import', 'sdg13_co2export', 'sdg13_ecr']].mean(axis=1)\n",
    "indicators20[\"sdg14_score\"] = indicators20[['sdg14_cpma', 'sdg14_cleanwat', 'sdg14_fishstocks', 'sdg14_trawl', 'sdg14_biomar']].mean(axis=1)\n",
    "indicators20[\"sdg15_score\"] = indicators20[['sdg15_cpta', 'sdg15_cpfa', 'sdg15_redlist', 'sdg15_forchg', 'sdg15_biofrwter']].mean(axis=1)\n",
    "indicators20[\"sdg16_score\"] = indicators20[['sdg16_homicides', 'sdg16_detain', 'sdg16_safe', 'sdg16_prs', 'sdg16_u5reg', 'sdg16_cpi', 'sdg16_clabor', 'sdg16_weaponsexp', 'sdg16_rsf', 'sdg16_prison']].mean(axis=1)\n",
    "indicators20[\"sdg17_score\"] = indicators20[['sdg17_govex', 'sdg17_oda', 'sdg17_govrev', 'sdg17_cohaven', 'sdg17_secrecy', 'sdg17_sprofit']].mean(axis=1)\n",
    "indicators20[\"total_score\"] = indicators20.mean(axis=1)"
   ]
  },
  {
   "cell_type": "code",
   "execution_count": 21,
   "metadata": {},
   "outputs": [],
   "source": [
    "# Creating column with ranking\n",
    "goal_scores20 = [col for col in indicators20.columns if col.endswith(\"_score\")]\n",
    "\n",
    "tups = indicators20[goal_scores20].sort_values(goal_scores20, ascending=False).apply(tuple, 1)\n",
    "f, i = pd.factorize(tups)\n",
    "factorized = pd.Series(f + 1, tups.index)\n",
    "indicators20 = indicators20.assign(rank=factorized)"
   ]
  },
  {
   "cell_type": "code",
   "execution_count": 22,
   "metadata": {},
   "outputs": [],
   "source": [
    "# Placing the rank column at the beggining\n",
    "cols20 = list(indicators20.columns)\n",
    "cols20 = [cols20[-1]] + cols20[:-1]\n",
    "indicators20 = indicators20[cols20]\n",
    "indicators20 = indicators20.sort_values(\"rank\").reset_index()"
   ]
  },
  {
   "cell_type": "markdown",
   "metadata": {},
   "source": [
    "## Creating summary tables with goal score and rank for each year"
   ]
  },
  {
   "cell_type": "markdown",
   "metadata": {},
   "source": [
    "### 2016"
   ]
  },
  {
   "cell_type": "code",
   "execution_count": 23,
   "metadata": {},
   "outputs": [],
   "source": [
    "#Selecting the columns to keep (scores, countryname and rank)\n",
    "cols16 = [col for col in indicators16.columns if col.startswith(\"countryname\") | \n",
    "          col.startswith(\"rank\") | col.endswith(\"_score\")]\n",
    "\n",
    "# Creating subset of the df\n",
    "df16 = indicators16[cols16].copy()"
   ]
  },
  {
   "cell_type": "markdown",
   "metadata": {},
   "source": [
    "### 2017"
   ]
  },
  {
   "cell_type": "code",
   "execution_count": 24,
   "metadata": {},
   "outputs": [],
   "source": [
    "#Selecting the columns to keep (scores, countryname and rank)\n",
    "cols17 = [col for col in indicators17.columns if col.startswith(\"country\") | \n",
    "          col.startswith(\"rank\") | col.endswith(\"_score\")]\n",
    "\n",
    "#Creating subset of the df\n",
    "df17 = indicators17[cols17].copy()"
   ]
  },
  {
   "cell_type": "markdown",
   "metadata": {},
   "source": [
    "### 2018"
   ]
  },
  {
   "cell_type": "code",
   "execution_count": 25,
   "metadata": {},
   "outputs": [],
   "source": [
    "#Selecting the columns to keep (scores, countryname and rank)\n",
    "cols18 = [col for col in indicators18.columns if col.startswith(\"country\") | \n",
    "          col.startswith(\"rank\") | col.endswith(\"_score\")]\n",
    "\n",
    "df18 = indicators18[cols18].copy()"
   ]
  },
  {
   "cell_type": "markdown",
   "metadata": {},
   "source": [
    "### 2019"
   ]
  },
  {
   "cell_type": "code",
   "execution_count": 26,
   "metadata": {},
   "outputs": [],
   "source": [
    "#Selecting the columns to keep (scores, countryname and rank)\n",
    "cols19 = [col for col in indicators19.columns if col.startswith(\"Country\") | \n",
    "          col.startswith(\"rank\") | col.endswith(\"_score\")]\n",
    "\n",
    "df19 = indicators19[cols19].copy()"
   ]
  },
  {
   "cell_type": "markdown",
   "metadata": {},
   "source": [
    "### 2020"
   ]
  },
  {
   "cell_type": "code",
   "execution_count": 27,
   "metadata": {},
   "outputs": [],
   "source": [
    "#Selecting the columns to keep (scores, countryname and rank)\n",
    "cols20 = [col for col in indicators20.columns if col.startswith(\"Country\") | \n",
    "          col.startswith(\"rank\") | col.endswith(\"_score\")]\n",
    "\n",
    "df20 = indicators20[cols20].copy()"
   ]
  },
  {
   "cell_type": "markdown",
   "metadata": {},
   "source": [
    "### Creating new dataframe with global total"
   ]
  },
  {
   "cell_type": "code",
   "execution_count": 28,
   "metadata": {},
   "outputs": [
    {
     "data": {
      "text/html": [
       "<div>\n",
       "<style scoped>\n",
       "    .dataframe tbody tr th:only-of-type {\n",
       "        vertical-align: middle;\n",
       "    }\n",
       "\n",
       "    .dataframe tbody tr th {\n",
       "        vertical-align: top;\n",
       "    }\n",
       "\n",
       "    .dataframe thead th {\n",
       "        text-align: right;\n",
       "    }\n",
       "</style>\n",
       "<table border=\"1\" class=\"dataframe\">\n",
       "  <thead>\n",
       "    <tr style=\"text-align: right;\">\n",
       "      <th></th>\n",
       "      <th>ds</th>\n",
       "      <th>y</th>\n",
       "    </tr>\n",
       "  </thead>\n",
       "  <tbody>\n",
       "    <tr>\n",
       "      <th>0</th>\n",
       "      <td>2016</td>\n",
       "      <td>54.772961</td>\n",
       "    </tr>\n",
       "    <tr>\n",
       "      <th>1</th>\n",
       "      <td>2017</td>\n",
       "      <td>59.382408</td>\n",
       "    </tr>\n",
       "    <tr>\n",
       "      <th>2</th>\n",
       "      <td>2018</td>\n",
       "      <td>59.228779</td>\n",
       "    </tr>\n",
       "    <tr>\n",
       "      <th>3</th>\n",
       "      <td>2019</td>\n",
       "      <td>59.546029</td>\n",
       "    </tr>\n",
       "    <tr>\n",
       "      <th>4</th>\n",
       "      <td>2020</td>\n",
       "      <td>61.425798</td>\n",
       "    </tr>\n",
       "  </tbody>\n",
       "</table>\n",
       "</div>"
      ],
      "text/plain": [
       "     ds          y\n",
       "0  2016  54.772961\n",
       "1  2017  59.382408\n",
       "2  2018  59.228779\n",
       "3  2019  59.546029\n",
       "4  2020  61.425798"
      ]
     },
     "execution_count": 28,
     "metadata": {},
     "output_type": "execute_result"
    }
   ],
   "source": [
    "#Selecting the total_score column for each year and calculating the global mean\n",
    "data = [['2016', np.mean(df16[\"total_score\"])], ['2017', np.mean(df17[\"total_score\"])], \n",
    "        ['2018', np.mean(df18[\"total_score\"])], ['2019', np.mean(df19[\"total_score\"])], \n",
    "        ['2020', np.mean(df20[\"total_score\"])]]\n",
    "\n",
    "global_df = pd.DataFrame(data, columns = ['ds', 'y']) #Renaming the columns in order to perform forecasting\n",
    "global_df"
   ]
  },
  {
   "cell_type": "markdown",
   "metadata": {},
   "source": [
    "## Creating dataframe with Economies by per capita GNI groups by UN"
   ]
  },
  {
   "cell_type": "code",
   "execution_count": 29,
   "metadata": {},
   "outputs": [],
   "source": [
    "high_income = [\"Australia\",\"Austria\", \"Bahrain\", \"Barbados\",\"Belgium\",\"Brunei Darussalam\",\"Canada\",\"Chile\",\"Cyprus\",\n",
    "\"Czech Republic\",\"Denmark\",\"Estonia\",\"Finland\",\"France\",\"Germany\",\"Greece\",\"Hong Kong\",\"Hungary\",\"Iceland\",\"Ireland\",\n",
    "\"Israel\",\"Italy\",\"Japan\",\"Kuwait\",\"Latvia\",\"Lithuania\",\"Luxembourg\",\"Malta\",\"Netherlands\",\"New Zealand\",\"Norway\",\"Oman\",\n",
    "\"Poland\",\"Portugal\",\"Qatar\",\"Korea, Rep.\", \"Korea, Dem. Rep.\", \"Saudi Arabia\",\"Singapore\",\"Slovak Republic\",\"Slovenia\",\"Spain\",\"Sweden\",\n",
    "\"Switzerland\",\"Taiwan\",\"Trinidad and Tobago\",\"United Arab Emirates\",\"United Kingdom\",\"United States\", \"Uruguay\"]\n",
    "\n",
    "upper_middle_income = [\"Albania\",\"Algeria\",\"Argentina\",\"Azerbaijan\",\"Belarus\",\"Belize\",\"Bosnia and Herzegovina\",\"Botswana\",\n",
    "\"Brazil\",\"Bulgaria\",\"China\",\"Colombia\",\"Costa Rica\",\"Croatia\",\"Cuba\",\"Dominican Republic\",\"Ecuador\",\"Equatorial Guinea\",\n",
    "\"Fiji\",\"Gabon\",\"Guyana\",\"Iran, Islamic Rep.\",\"Iraq\",\"Jamaica\",\"Kazakhstan\",\"Lebanon\",\"Libya\",\"Malaysia\",\"Maldives\",\"Mauritius\",\n",
    "\"Mexico\",\"Montenegro\",\"Namibia\",\"Panama\",\"Paraguay\",\"Peru\",\"Romania\",\"Russian Federation\",\"Samoa\",\"Serbia\",\n",
    "\"South Africa\",\"Suriname\",\"Thailand\",\"Macedonia, FYR\", \"Former Yugoslav Republic of Macedonia (FYROM)\",\"Turkey\",\"Turkmenistan\",\"Venezuela, RB\"]\n",
    "\n",
    "lower_middle_income = [\"Angola\",\"Armenia\",\"Bangladesh\",\"Bhutan\",\"Bolivia\",\"Cambodia\",\"Cameroon\",\"Cabo Verde\",\"Congo, Dem. Rep.\",\"Cote d'Ivoire\",\n",
    "\"Djibouti\",\"Egypt, Arab Rep.\",\"El Salvador\",\"Ghana\",\"Georgia\",\"Guatemala\",\"Honduras\",\"India\",\"Indonesia\",\"Jordan\",\"Kenya\",\n",
    "\"Kiribati\",\"Kyrgyz Republic\",\"Lao PDR\",\"Lesotho\",\"Mauritania\",\"Mongolia\",\"Morocco\",\"Myanmar\",\"Nicaragua\",\"Nigeria\",\n",
    "\"Pakistan\",\"Papua New Guinea\",\"Philippines\",\"Moldova\",\"São Tomé and Principe\", \"Sao Tome and Principe\",\"Solomon Islands\",\n",
    "\"Sri Lanka\",\"Sudan\",\"Swaziland\",\"Syrian Arab Republic\",\"Tajikistan\",\"Timor-Leste\",\"Tunisia\",\"Ukraine\",\n",
    "\"Uzbekistan\",\"Vanuatu\",\"Vietnam\",\"Yemen, Rep.\",\"Zambia\"]\n",
    "\n",
    "low_income = [\"Afghanistan\",\"Benin\",\"Burkina Faso\",\"Burundi\",\"Central African Republic\",\"Chad\",\"Comoros\",\"Congo, Rep.\",\n",
    "\"Eritrea\",\"Ethiopia\",\"Gambia, The\",\"Guinea\",\"Guinea-Bissau\",\"Haiti\",\"Liberia\",\"Madagascar\",\"Malawi\",\"Mali\",\"Mozambique\",\n",
    "\"Nepal\",\"Niger\",\"Rwanda\",\"Senegal\",\"Sierra Leone\",\"Somalia\",\"Togo\",\"Uganda\",\"Tanzania\",\"Zimbabwe\"]\n",
    "\n",
    "values=['HI','UMI','LMI','LI']"
   ]
  },
  {
   "cell_type": "code",
   "execution_count": 30,
   "metadata": {},
   "outputs": [],
   "source": [
    "# Labeling the countries in 2016 dataset\n",
    "cond = [df16[\"countryname\"].isin(high_income),df16['countryname'].isin(upper_middle_income),df16['countryname'].isin(lower_middle_income),df16['countryname'].isin(low_income)]\n",
    "df16['economy']=np.select(cond,values)"
   ]
  },
  {
   "cell_type": "code",
   "execution_count": 31,
   "metadata": {},
   "outputs": [],
   "source": [
    "# Labeling the countries in 2017 dataset\n",
    "cond1=[df17['country'].isin(high_income),df17['country'].isin(upper_middle_income),df17['country'].isin(lower_middle_income),df17['country'].isin(low_income)]\n",
    "df17['economy']=np.select(cond1,values)"
   ]
  },
  {
   "cell_type": "code",
   "execution_count": 32,
   "metadata": {},
   "outputs": [],
   "source": [
    "# Labeling the countries in 2018 dataset\n",
    "cond2=[df18['country'].isin(high_income),df18['country'].isin(upper_middle_income),df18['country'].isin(lower_middle_income),df18['country'].isin(low_income)]\n",
    "df18['economy']=np.select(cond2,values)"
   ]
  },
  {
   "cell_type": "code",
   "execution_count": 33,
   "metadata": {},
   "outputs": [],
   "source": [
    "# Labeling the countries in 2019 dataset\n",
    "cond3=[df19['Country'].isin(high_income),df19['Country'].isin(upper_middle_income),df19['Country'].isin(lower_middle_income),df19['Country'].isin(low_income)]\n",
    "df19['economy']=np.select(cond3,values)"
   ]
  },
  {
   "cell_type": "code",
   "execution_count": 34,
   "metadata": {},
   "outputs": [],
   "source": [
    "# Labeling the countries in 2020 dataset\n",
    "cond4=[df20['Country'].isin(high_income),df20['Country'].isin(upper_middle_income),df20['Country'].isin(lower_middle_income),df20['Country'].isin(low_income)]\n",
    "df20['economy']=np.select(cond4,values)"
   ]
  },
  {
   "cell_type": "markdown",
   "metadata": {},
   "source": [
    "### Creating dataframe for High income countries"
   ]
  },
  {
   "cell_type": "code",
   "execution_count": 35,
   "metadata": {},
   "outputs": [],
   "source": [
    "data_hi = [['2016', df16[df16[\"economy\"] == \"HI\"][\"total_score\"].median()], \n",
    "        ['2017', df17[df17[\"economy\"] == \"HI\"][\"total_score\"].median()], \n",
    "        ['2018', df18[df18[\"economy\"] == \"HI\"][\"total_score\"].median()], \n",
    "        ['2019', df19[df19[\"economy\"] == \"HI\"][\"total_score\"].median()], \n",
    "        ['2020', df20[df20[\"economy\"] == \"HI\"][\"total_score\"].median()]]\n",
    "hi_df = pd.DataFrame(data_hi, columns = ['ds', 'score'])\n",
    "hi_df['ds'] = pd.to_datetime(hi_df['ds'])"
   ]
  },
  {
   "cell_type": "markdown",
   "metadata": {},
   "source": [
    "### Creating dataframe for upper middle income countries"
   ]
  },
  {
   "cell_type": "code",
   "execution_count": 36,
   "metadata": {},
   "outputs": [],
   "source": [
    "data_umi = [['2016', df16[df16[\"economy\"] == \"UMI\"][\"total_score\"].median()], \n",
    "        ['2017', df17[df17[\"economy\"] == \"UMI\"][\"total_score\"].median()], \n",
    "        ['2018', df18[df18[\"economy\"] == \"UMI\"][\"total_score\"].median()], \n",
    "        ['2019', df19[df19[\"economy\"] == \"UMI\"][\"total_score\"].median()], \n",
    "        ['2020', df20[df20[\"economy\"] == \"UMI\"][\"total_score\"].median()]]\n",
    "umi_df = pd.DataFrame(data_umi, columns = ['ds', 'score']) \n",
    "umi_df['ds'] = pd.to_datetime(umi_df['ds'])"
   ]
  },
  {
   "cell_type": "markdown",
   "metadata": {},
   "source": [
    "### Creating dataframe for lower middle income countries"
   ]
  },
  {
   "cell_type": "code",
   "execution_count": 37,
   "metadata": {},
   "outputs": [],
   "source": [
    "data_lmi = [['2016', df16[df16[\"economy\"] == \"LMI\"][\"total_score\"].median()], \n",
    "        ['2017', df17[df17[\"economy\"] == \"LMI\"][\"total_score\"].median()], \n",
    "        ['2018', df18[df18[\"economy\"] == \"LMI\"][\"total_score\"].median()], \n",
    "        ['2019', df19[df19[\"economy\"] == \"LMI\"][\"total_score\"].median()], \n",
    "        ['2020', df20[df20[\"economy\"] == \"LMI\"][\"total_score\"].median()]]\n",
    "lmi_df = pd.DataFrame(data_lmi, columns = ['ds', 'score']) \n",
    "lmi_df['ds'] = pd.to_datetime(lmi_df['ds'])"
   ]
  },
  {
   "cell_type": "markdown",
   "metadata": {},
   "source": [
    "### Creating dataframe for low income countries"
   ]
  },
  {
   "cell_type": "code",
   "execution_count": 38,
   "metadata": {},
   "outputs": [],
   "source": [
    "data_li = [['2016', df16[df16[\"economy\"] == \"LI\"][\"total_score\"].median()], \n",
    "        ['2017', df17[df17[\"economy\"] == \"LI\"][\"total_score\"].median()], \n",
    "        ['2018', df18[df18[\"economy\"] == \"LI\"][\"total_score\"].median()], \n",
    "        ['2019', df19[df19[\"economy\"] == \"LI\"][\"total_score\"].median()], \n",
    "        ['2020', df20[df20[\"economy\"] == \"LI\"][\"total_score\"].median()]]\n",
    "li_df = pd.DataFrame(data_li, columns = ['ds', 'score']) \n",
    "li_df['ds'] = pd.to_datetime(li_df['ds'])"
   ]
  },
  {
   "cell_type": "markdown",
   "metadata": {},
   "source": [
    "Plotting the economies performance"
   ]
  },
  {
   "cell_type": "code",
   "execution_count": 39,
   "metadata": {
    "scrolled": false
   },
   "outputs": [
    {
     "data": {
      "text/plain": [
       "<matplotlib.legend.Legend at 0x7fbc33c44d90>"
      ]
     },
     "execution_count": 39,
     "metadata": {},
     "output_type": "execute_result"
    },
    {
     "data": {
      "image/png": "[encoded data removed]",
      "text/plain": [
       "<Figure size 432x288 with 1 Axes>"
      ]
     },
     "metadata": {
      "needs_background": "light"
     },
     "output_type": "display_data"
    }
   ],
   "source": [
    "f, ax = plt.subplots(1, 1)\n",
    "plt.plot(\"ds\", \"score\", data=hi_df, label=\"High income\")\n",
    "plt.plot(\"ds\", \"score\", data=umi_df, label=\"Upper middle income\")\n",
    "plt.plot(\"ds\", \"score\", data=lmi_df, label=\"Low middle income\")\n",
    "plt.plot(\"ds\", \"score\", data=li_df, label=\"Low income\")\n",
    "plt.title(\"Relationship between countries income and performance\")\n",
    "plt.xlabel(\"year\")\n",
    "plt.ylabel(\"performance\")\n",
    "ax.legend()"
   ]
  },
  {
   "cell_type": "markdown",
   "metadata": {},
   "source": [
    "### Creating dataframe with regions"
   ]
  },
  {
   "cell_type": "code",
   "execution_count": 40,
   "metadata": {},
   "outputs": [],
   "source": [
    "northern_africa = [\"Algeria\", \"Egypt\", \"Egypt, Arab Rep.\", \"Libya\", \"Morocco\", \"Sudan\", \"Tunisia\", \"Western Sahara\"]\n",
    "eastern_africa = [\"British Indian Ocean Territory\", \"Burundi\", \"Comoros\", \"Djibouti\", \"Eritrea\", \"Ethiopia\", \"French Southern Territories\", \"Kenya\", \"Madagascar\", \"Malawi\", \"Mauritius\", \"Mayotte\", \"Mozambique\",\"Réunion\", \"Rwanda\", \"Seychelles\", \"Somalia\", \"South Sudan\", \"Uganda\", \"United Republic of Tanzania\", \"Tanzania\", \"Zambia\", \"Zimbabwe\"]\n",
    "middle_africa = [\"Angola\", \"Cameroon\", \"Central African Republic\", \"Chad\", \"Congo, Dem. Rep.\", \"Congo, Rep.\",\"Democratic Republic of the Congo\", \"Equatorial Guinea\", \"Gabon\", \"Sao Tome and Principe\"]\n",
    "southern_africa = [\"Swaziland\",\"Botswana\", \"Eswatini\", \"Lesotho\", \"Namibia\", \"South Africa\"]\n",
    "western_africa = [\"Benin\", \"Burkina Faso\", \"Cabo Verde\", \"Côte d’Ivoire\", \"Cote d'Ivoire\", \"Gambia, The\", \"Ghana\", \"Guinea\", \"Guinea-Bissau\",\"Liberia\", \"Mali\", \"Mauritania\", \"Niger\", \"Nigeria\", \"Saint Helena\", \"Senegal\", \"Sierra Leone\", \"Togo\"]\n",
    "latin_am_caribbean = [\"Anguilla\", \"Antigua and Barbuda\", \"Aruba\", \"Bahamas\", \"Barbados\", \"Bonaire\", \"British Virgin Islands\", \"Cayman Islands\", \"Cuba\", \"Curaçao\", \"Dominica\",\"Dominican Republic\", \"Grenada\", \"Guadeloupe\", \"Haiti\", \"Jamaica\", \"Martinique\", \"Montserrat\",\"Puerto Rico\", \"Saint Barthélemy\", \"Saint Kitts and Nevis\", \"Saint Lucia\", \"Saint Martin (French Part)\", \"Saint Vincent and the Grenadines\", \"Samoa\",\"Sint Maarten (Dutch part)\", \"Trinidad and Tobago\",\"Turks and Caicos Islands\", \"United States Virgin Islands\",\"Belize\", \"Costa Rica\", \"El Salvador\", \"Guatemala\", \"Honduras\", \"Mexico\", \"Nicaragua\",\"Panama\",\"Argentina\", \"Bolivia\", \"Bouvet Island\", \"Brazil\", \"Chile\",\"Colombia\", \"Ecuador\", \"Falkland Islands (Malvinas)\", \"French Guiana\", \"Guyana\", \"Paraguay\", \"Peru\",\"South Georgia and the South Sandwich Islands\", \"Suriname\", \"Uruguay\", \"Venezuela, RB\", \"Venezuela\"]\n",
    "north_america = [\"Bermuda\", \"Canada\", \"Greenland\", \"Saint Pierre and Miquelon\", \"United States\"]\n",
    "central_asia = [\"Kazakhstan\", \"Kyrgyzstan\", \"Kyrgyz Republic\",\"Tajikistan\", \"Turkmenistan\", \"Uzbekistan\"]\n",
    "east_asia = [\"China\", \"Hong Kong\" , \"Korea, Rep.\", \"Korea, Dem. Rep.\", \"Japan\", \"Mongolia\"]\n",
    "southeast_asia = [\"Brunei Darussalam\", \"Cambodia\", \"Indonesia\", \"Lao PDR\", \"Malaysia\",\"Myanmar\", \"Philippines\", \"Singapore\", \"Thailand\", \"Timor-Leste\", \"Vietnam\"]\n",
    "southern_asia = [\"Afghanistan\", \"Bangladesh\", \"Bhutan\", \"India\", \"Iran, Islamic Rep.\", \"Maldives\", \"Nepal\",\"Pakistan\", \"Sri Lanka\"]\n",
    "western_asia = [\"Armenia\", \"Azerbaijan\", \"Bahrain\", \"Cyprus\", \"Georgia\", \"Iraq\", \"Israel\", \"Jordan\", \"Kuwait\", \"Lebanon\",\"Oman\", \"Qatar\", \"Saudi Arabia\", \"State of Palestine\", \"Syrian Arab Republic\", \"Turkey\", \"United Arab Emirates\", \"Yemen\",\"Yemen, Rep.\"]\n",
    "east_europe = [\"Belarus\", \"Bulgaria\", \"Czech Republic\", \"Hungary\", \"Poland\", \"Republic of Moldova\", \"Moldova\",\"Romania\",\"Russian Federation\", \"Slovakia\", \"Slovak Republic\", \"Ukraine\"]\n",
    "north_europe = [\"Åland Islands\", \"Channel Islands (Guernsey, Jersey, Sark)\", \"Denmark\", \"Estonia\", \"Faroe Islands\",\"Finland\", \"Iceland\", \"Ireland\", \"Isle of Man\", \"Latvia\", \"Lithuania\", \"Norway\", \"Svalbard and Jan Mayen Islands\", \"Sweden\", \"United Kingdom\", \"Ireland\"]\n",
    "south_europe = [\"Albania\", \"Andorra\", \"Bosnia and Herzegovina\", \"Croatia\", \"Gibraltar\", \"Greece\", \"Holy See\", \"Italy\",\"Malta\", \"Montenegro\", \"Portugal\", \"San Marino\", \"Serbia\", \"Slovenia\", \"Spain\", \"Macedonia, FYR\", \"Former Yugoslav Republic of Macedonia (FYROM)\"]\n",
    "western_europe = [\"Austria\", \"Belgium\", \"France\", \"Germany\", \"Liechtenstein\", \"Luxembourg\", \"Monaco\", \"Netherlands\",\"Switzerland\"]\n",
    "oceania = [\"Australia\", \"Christmas Island\", \"Cocos (Keeling) Islands\", \"Heard Island and McDonald Islands\",\"New Zealand\", \"Norfolk Island\", \"Fiji\", \"New Caledonia\", \"Papua New Guinea\", \"Solomon Islands\", \"Vanuatu\", \"Guam\", \"Kiribati\", \"Marshall Islands\", \"Micronesia (Federated States of)\", \"Nauru\", \"Northern Mariana Islands\", \"Palau\", \"United States Minor Outlying Islands\"]\n",
    "\n",
    "values=['north_af','east_af','mid_af','south_af', \"west_afr\",\"lat_cab\", \"north_am\", \"cent_as\", \"east_as\", \"southeast_as\", \"south_as\", \"west_as\", \"east_eu\", \"nor_eu\", \"sou_eu\", \"wes_eu\", \"oceania\"]"
   ]
  },
  {
   "cell_type": "code",
   "execution_count": 41,
   "metadata": {},
   "outputs": [],
   "source": [
    "# Labeling the countries in 2016 dataset\n",
    "cond=[df16[\"countryname\"].isin(northern_africa),df16['countryname'].isin(eastern_africa),df16['countryname'].isin(middle_africa),df16['countryname'].isin(southern_africa),\n",
    "     df16['countryname'].isin(western_africa), df16['countryname'].isin(latin_am_caribbean), df16['countryname'].isin(north_america),\n",
    "     df16['countryname'].isin(central_asia), df16['countryname'].isin(east_asia), df16['countryname'].isin(southeast_asia), df16['countryname'].isin(southern_asia),\n",
    "     df16['countryname'].isin(western_asia), df16['countryname'].isin(east_europe), df16['countryname'].isin(north_europe), df16['countryname'].isin(south_europe), \n",
    "     df16['countryname'].isin(western_europe), df16['countryname'].isin(oceania)]\n",
    "df16['region']=np.select(cond,values)"
   ]
  },
  {
   "cell_type": "code",
   "execution_count": 42,
   "metadata": {},
   "outputs": [],
   "source": [
    "# Labeling the countries in 2017 dataset\n",
    "cond=[df17[\"country\"].isin(northern_africa),df17['country'].isin(eastern_africa),df17['country'].isin(middle_africa),df17['country'].isin(southern_africa),\n",
    "     df17['country'].isin(western_africa), df17['country'].isin(latin_am_caribbean), df17['country'].isin(north_america),\n",
    "     df17['country'].isin(central_asia), df17['country'].isin(east_asia), df17['country'].isin(southeast_asia), df17['country'].isin(southern_asia),\n",
    "     df17['country'].isin(western_asia), df17['country'].isin(east_europe), df17['country'].isin(north_europe), df17['country'].isin(south_europe), \n",
    "     df17['country'].isin(western_europe), df17['country'].isin(oceania)]\n",
    "df17['region']=np.select(cond,values)"
   ]
  },
  {
   "cell_type": "code",
   "execution_count": 43,
   "metadata": {},
   "outputs": [],
   "source": [
    "# Labeling the countries in 2018 dataset\n",
    "cond=[df18[\"country\"].isin(northern_africa),df18['country'].isin(eastern_africa),df18['country'].isin(middle_africa),df18['country'].isin(southern_africa),\n",
    "     df18['country'].isin(western_africa), df18['country'].isin(latin_am_caribbean), df18['country'].isin(north_america),\n",
    "     df18['country'].isin(central_asia), df18['country'].isin(east_asia), df18['country'].isin(southeast_asia), df18['country'].isin(southern_asia),\n",
    "     df18['country'].isin(western_asia), df18['country'].isin(east_europe), df18['country'].isin(north_europe), df18['country'].isin(south_europe), \n",
    "     df18['country'].isin(western_europe), df18['country'].isin(oceania)]\n",
    "df18['region']=np.select(cond,values)"
   ]
  },
  {
   "cell_type": "code",
   "execution_count": 44,
   "metadata": {},
   "outputs": [],
   "source": [
    "# Labeling the countries in 2019 dataset\n",
    "cond=[df19[\"Country\"].isin(northern_africa),df19['Country'].isin(eastern_africa),df19['Country'].isin(middle_africa),df19['Country'].isin(southern_africa),\n",
    "     df19['Country'].isin(western_africa), df19['Country'].isin(latin_am_caribbean), df19['Country'].isin(north_america),\n",
    "     df19['Country'].isin(central_asia), df19['Country'].isin(east_asia), df19['Country'].isin(southeast_asia), df19['Country'].isin(southern_asia),\n",
    "     df19['Country'].isin(western_asia), df19['Country'].isin(east_europe), df19['Country'].isin(north_europe), df19['Country'].isin(south_europe), \n",
    "     df19['Country'].isin(western_europe), df19['Country'].isin(oceania)]\n",
    "df19['region']=np.select(cond,values)"
   ]
  },
  {
   "cell_type": "code",
   "execution_count": 45,
   "metadata": {},
   "outputs": [],
   "source": [
    "cond=[df20[\"Country\"].isin(northern_africa),df20['Country'].isin(eastern_africa),df20['Country'].isin(middle_africa),df20['Country'].isin(southern_africa),\n",
    "     df20['Country'].isin(western_africa), df20['Country'].isin(latin_am_caribbean), df20['Country'].isin(north_america),\n",
    "     df20['Country'].isin(central_asia), df20['Country'].isin(east_asia), df20['Country'].isin(southeast_asia), df20['Country'].isin(southern_asia),\n",
    "     df20['Country'].isin(western_asia), df20['Country'].isin(east_europe), df20['Country'].isin(north_europe), df20['Country'].isin(south_europe), \n",
    "     df20['Country'].isin(western_europe), df20['Country'].isin(oceania)]\n",
    "df20['region']=np.select(cond,values)"
   ]
  },
  {
   "cell_type": "markdown",
   "metadata": {},
   "source": [
    "### Africa"
   ]
  },
  {
   "cell_type": "markdown",
   "metadata": {},
   "source": [
    "Creating dataframe for __Northern Africa__"
   ]
  },
  {
   "cell_type": "code",
   "execution_count": 46,
   "metadata": {},
   "outputs": [],
   "source": [
    "data_north_af = [['2016', df16[df16[\"region\"] == \"north_af\"][\"total_score\"].median()], \n",
    "        ['2017', df17[df17[\"region\"] == \"north_af\"][\"total_score\"].median()], \n",
    "        ['2018', df18[df18[\"region\"] == \"north_af\"][\"total_score\"].median()], \n",
    "        ['2019', df19[df19[\"region\"] == \"north_af\"][\"total_score\"].median()], \n",
    "        ['2020', df20[df20[\"region\"] == \"north_af\"][\"total_score\"].median()]]\n",
    "north_af_df = pd.DataFrame(data_north_af, columns = ['ds', 'score']) "
   ]
  },
  {
   "cell_type": "markdown",
   "metadata": {},
   "source": [
    "Creating dataframe for __East Africa__"
   ]
  },
  {
   "cell_type": "code",
   "execution_count": 47,
   "metadata": {},
   "outputs": [],
   "source": [
    "data_east_af = [['2016', df16[df16[\"region\"] == \"east_af\"][\"total_score\"].median()], \n",
    "        ['2017', df17[df17[\"region\"] == \"east_af\"][\"total_score\"].median()], \n",
    "        ['2018', df18[df18[\"region\"] == \"east_af\"][\"total_score\"].median()], \n",
    "        ['2019', df19[df19[\"region\"] == \"east_af\"][\"total_score\"].median()], \n",
    "        ['2020', df20[df20[\"region\"] == \"east_af\"][\"total_score\"].median()]]\n",
    "east_af_df = pd.DataFrame(data_east_af, columns = ['ds', 'score']) "
   ]
  },
  {
   "cell_type": "markdown",
   "metadata": {},
   "source": [
    "Creating dataframe for __Middle Africa__"
   ]
  },
  {
   "cell_type": "code",
   "execution_count": 48,
   "metadata": {},
   "outputs": [],
   "source": [
    "data_mid_af = [['2016', df16[df16[\"region\"] == \"mid_af\"][\"total_score\"].median()], \n",
    "        ['2017', df17[df17[\"region\"] == \"mid_af\"][\"total_score\"].median()], \n",
    "        ['2018', df18[df18[\"region\"] == \"mid_af\"][\"total_score\"].median()], \n",
    "        ['2019', df19[df19[\"region\"] == \"mid_af\"][\"total_score\"].median()], \n",
    "        ['2020', df20[df20[\"region\"] == \"mid_af\"][\"total_score\"].median()]]\n",
    "mid_af_df = pd.DataFrame(data_mid_af, columns = ['ds', 'score']) "
   ]
  },
  {
   "cell_type": "markdown",
   "metadata": {},
   "source": [
    "Creating dataframe for __South Africa__"
   ]
  },
  {
   "cell_type": "code",
   "execution_count": 49,
   "metadata": {},
   "outputs": [],
   "source": [
    "data_south_af = [['2016', df16[df16[\"region\"] == \"south_af\"][\"total_score\"].median()], \n",
    "        ['2017', df17[df17[\"region\"] == \"south_af\"][\"total_score\"].median()], \n",
    "        ['2018', df18[df18[\"region\"] == \"south_af\"][\"total_score\"].median()], \n",
    "        ['2019', df19[df19[\"region\"] == \"south_af\"][\"total_score\"].median()], \n",
    "        ['2020', df20[df20[\"region\"] == \"south_af\"][\"total_score\"].median()]]\n",
    "south_af_df = pd.DataFrame(data_south_af, columns = ['ds', 'score']) "
   ]
  },
  {
   "cell_type": "markdown",
   "metadata": {},
   "source": [
    "Creating dataframe for __West Africa__"
   ]
  },
  {
   "cell_type": "code",
   "execution_count": 50,
   "metadata": {},
   "outputs": [],
   "source": [
    "data_west_af = [['2016', df16[df16[\"region\"] == \"west_af\"][\"total_score\"].median()], \n",
    "        ['2017', df17[df17[\"region\"] == \"west_af\"][\"total_score\"].median()], \n",
    "        ['2018', df18[df18[\"region\"] == \"west_af\"][\"total_score\"].median()], \n",
    "        ['2019', df19[df19[\"region\"] == \"west_af\"][\"total_score\"].median()], \n",
    "        ['2020', df20[df20[\"region\"] == \"west_af\"][\"total_score\"].median()]]\n",
    "west_af_df = pd.DataFrame(data_west_af, columns = ['ds', 'score']) "
   ]
  },
  {
   "cell_type": "markdown",
   "metadata": {},
   "source": [
    "Plotting the __African performance__ by region"
   ]
  },
  {
   "cell_type": "code",
   "execution_count": 51,
   "metadata": {},
   "outputs": [
    {
     "data": {
      "text/plain": [
       "<matplotlib.legend.Legend at 0x7fbc34257fa0>"
      ]
     },
     "execution_count": 51,
     "metadata": {},
     "output_type": "execute_result"
    },
    {
     "data": {
      "image/png": "[encoded data removed]",
      "text/plain": [
       "<Figure size 432x288 with 1 Axes>"
      ]
     },
     "metadata": {
      "needs_background": "light"
     },
     "output_type": "display_data"
    }
   ],
   "source": [
    "f, ax = plt.subplots(1, 1)\n",
    "plt.plot(\"ds\", \"score\", data=north_af_df, label=\"North Africa\")\n",
    "plt.plot(\"ds\", \"score\", data=east_af_df, label=\"East Africa\")\n",
    "plt.plot(\"ds\", \"score\", data=mid_af_df, label=\"Middle Africa\")\n",
    "plt.plot(\"ds\", \"score\", data=south_af_df, label=\"South Africa\")\n",
    "plt.plot(\"ds\", \"score\", data=west_af_df, label=\"West Africa\")\n",
    "plt.title(\"Performance of the different African regions\")\n",
    "plt.xlabel(\"year\")\n",
    "plt.ylabel(\"performance\")\n",
    "ax.legend()"
   ]
  },
  {
   "cell_type": "markdown",
   "metadata": {},
   "source": [
    "### America"
   ]
  },
  {
   "cell_type": "markdown",
   "metadata": {},
   "source": [
    "Creating dataframe for __Latin America and Caribbean__"
   ]
  },
  {
   "cell_type": "code",
   "execution_count": 52,
   "metadata": {},
   "outputs": [],
   "source": [
    "data_latcab_am = [['2016', df16[df16[\"region\"] == \"lat_cab\"][\"total_score\"].median()], \n",
    "        ['2017', df17[df17[\"region\"] == \"lat_cab\"][\"total_score\"].median()], \n",
    "        ['2018', df18[df18[\"region\"] == \"lat_cab\"][\"total_score\"].median()], \n",
    "        ['2019', df19[df19[\"region\"] == \"lat_cab\"][\"total_score\"].median()], \n",
    "        ['2020', df20[df20[\"region\"] == \"lat_cab\"][\"total_score\"].median()]]\n",
    "latcab_df = pd.DataFrame(data_latcab_am, columns = ['ds', 'score']) "
   ]
  },
  {
   "cell_type": "markdown",
   "metadata": {},
   "source": [
    "Creating dataframe for __North America__"
   ]
  },
  {
   "cell_type": "code",
   "execution_count": 53,
   "metadata": {},
   "outputs": [],
   "source": [
    "data_north_am = [['2016', df16[df16[\"region\"] == \"north_am\"][\"total_score\"].median()], \n",
    "        ['2017', df17[df17[\"region\"] == \"north_am\"][\"total_score\"].median()], \n",
    "        ['2018', df18[df18[\"region\"] == \"north_am\"][\"total_score\"].median()], \n",
    "        ['2019', df19[df19[\"region\"] == \"north_am\"][\"total_score\"].median()], \n",
    "        ['2020', df20[df20[\"region\"] == \"north_am\"][\"total_score\"].median()]]\n",
    "north_am_df = pd.DataFrame(data_north_am, columns = ['ds', 'score']) "
   ]
  },
  {
   "cell_type": "markdown",
   "metadata": {},
   "source": [
    "Plotting the __performance of America__"
   ]
  },
  {
   "cell_type": "code",
   "execution_count": 54,
   "metadata": {},
   "outputs": [
    {
     "data": {
      "image/png": "[encoded data removed]",
      "text/plain": [
       "<Figure size 432x288 with 1 Axes>"
      ]
     },
     "metadata": {
      "needs_background": "light"
     },
     "output_type": "display_data"
    }
   ],
   "source": [
    "f, ax = plt.subplots(1, 1)\n",
    "plt.plot(\"ds\", \"score\", data=latcab_df, label=\"Latin America and Caribbean\")\n",
    "plt.plot(\"ds\", \"score\", data=north_am_df, label=\"North America\")\n",
    "plt.title(\"Performance of the different American regions\")\n",
    "plt.xlabel(\"year\")\n",
    "plt.ylabel(\"performance\")\n",
    "ax.legend();"
   ]
  },
  {
   "cell_type": "markdown",
   "metadata": {},
   "source": [
    "### Asia"
   ]
  },
  {
   "cell_type": "markdown",
   "metadata": {},
   "source": [
    "Creating dataframe for __Center Asia__"
   ]
  },
  {
   "cell_type": "code",
   "execution_count": 55,
   "metadata": {},
   "outputs": [],
   "source": [
    "data_cent_as = [['2016', df16[df16[\"region\"] == \"cent_as\"][\"total_score\"].median()], \n",
    "        ['2017', df17[df17[\"region\"] == \"cent_as\"][\"total_score\"].median()], \n",
    "        ['2018', df18[df18[\"region\"] == \"cent_as\"][\"total_score\"].median()], \n",
    "        ['2019', df19[df19[\"region\"] == \"cent_as\"][\"total_score\"].median()], \n",
    "        ['2020', df20[df20[\"region\"] == \"cent_as\"][\"total_score\"].median()]]\n",
    "cent_as_df = pd.DataFrame(data_cent_as, columns = ['ds', 'score']) "
   ]
  },
  {
   "cell_type": "markdown",
   "metadata": {},
   "source": [
    "Creating dataframe for __East Asia__"
   ]
  },
  {
   "cell_type": "code",
   "execution_count": 56,
   "metadata": {},
   "outputs": [],
   "source": [
    "data_east_as = [['2016', df16[df16[\"region\"] == \"east_as\"][\"total_score\"].median()], \n",
    "        ['2017', df17[df17[\"region\"] == \"east_as\"][\"total_score\"].median()], \n",
    "        ['2018', df18[df18[\"region\"] == \"east_as\"][\"total_score\"].median()], \n",
    "        ['2019', df19[df19[\"region\"] == \"east_as\"][\"total_score\"].median()], \n",
    "        ['2020', df20[df20[\"region\"] == \"east_as\"][\"total_score\"].median()]]\n",
    "east_as_df = pd.DataFrame(data_east_as, columns = ['ds', 'score']) "
   ]
  },
  {
   "cell_type": "markdown",
   "metadata": {},
   "source": [
    "Creating dataframe for __Southeast Asia__"
   ]
  },
  {
   "cell_type": "code",
   "execution_count": 57,
   "metadata": {},
   "outputs": [],
   "source": [
    "data_southeast_as = [['2016', df16[df16[\"region\"] == \"southeast_as\"][\"total_score\"].median()], \n",
    "        ['2017', df17[df17[\"region\"] == \"southeast_as\"][\"total_score\"].median()], \n",
    "        ['2018', df18[df18[\"region\"] == \"southeast_as\"][\"total_score\"].median()], \n",
    "        ['2019', df19[df19[\"region\"] == \"southeast_as\"][\"total_score\"].median()], \n",
    "        ['2020', df20[df20[\"region\"] == \"southeast_as\"][\"total_score\"].median()]]\n",
    "southeast_as_df = pd.DataFrame(data_southeast_as, columns = ['ds', 'score']) "
   ]
  },
  {
   "cell_type": "markdown",
   "metadata": {},
   "source": [
    "Creating dataframe for __South Asia__"
   ]
  },
  {
   "cell_type": "code",
   "execution_count": 58,
   "metadata": {},
   "outputs": [],
   "source": [
    "data_south_as = [['2016', df16[df16[\"region\"] == \"south_as\"][\"total_score\"].median()], \n",
    "        ['2017', df17[df17[\"region\"] == \"south_as\"][\"total_score\"].median()], \n",
    "        ['2018', df18[df18[\"region\"] == \"south_as\"][\"total_score\"].median()], \n",
    "        ['2019', df19[df19[\"region\"] == \"south_as\"][\"total_score\"].median()], \n",
    "        ['2020', df20[df20[\"region\"] == \"south_as\"][\"total_score\"].median()]]\n",
    "south_as_df = pd.DataFrame(data_south_as, columns = ['ds', 'score']) "
   ]
  },
  {
   "cell_type": "markdown",
   "metadata": {},
   "source": [
    "Creating dataframe for __West Asia__"
   ]
  },
  {
   "cell_type": "code",
   "execution_count": 59,
   "metadata": {},
   "outputs": [],
   "source": [
    "data_west_as = [['2016', df16[df16[\"region\"] == \"west_as\"][\"total_score\"].median()], \n",
    "        ['2017', df17[df17[\"region\"] == \"west_as\"][\"total_score\"].median()], \n",
    "        ['2018', df18[df18[\"region\"] == \"west_as\"][\"total_score\"].median()], \n",
    "        ['2019', df19[df19[\"region\"] == \"west_as\"][\"total_score\"].median()], \n",
    "        ['2020', df20[df20[\"region\"] == \"west_as\"][\"total_score\"].median()]]\n",
    "west_as_df = pd.DataFrame(data_west_as, columns = ['ds', 'score']) "
   ]
  },
  {
   "cell_type": "markdown",
   "metadata": {},
   "source": [
    "Plotting __Asia's performance__ by region"
   ]
  },
  {
   "cell_type": "code",
   "execution_count": 60,
   "metadata": {},
   "outputs": [
    {
     "data": {
      "text/plain": [
       "<matplotlib.legend.Legend at 0x7fbc3578ee20>"
      ]
     },
     "execution_count": 60,
     "metadata": {},
     "output_type": "execute_result"
    },
    {
     "data": {
      "image/png": "[encoded data removed]",
      "text/plain": [
       "<Figure size 432x288 with 1 Axes>"
      ]
     },
     "metadata": {
      "needs_background": "light"
     },
     "output_type": "display_data"
    }
   ],
   "source": [
    "f, ax = plt.subplots(1, 1)\n",
    "plt.plot(\"ds\", \"score\", data=cent_as_df, label=\"Central Asia\")\n",
    "plt.plot(\"ds\", \"score\", data=east_as_df, label=\"East Asia\")\n",
    "plt.plot(\"ds\", \"score\", data=southeast_as_df, label=\"Southeast Asia\")\n",
    "plt.plot(\"ds\", \"score\", data=south_as_df, label=\"South Asia\")\n",
    "plt.plot(\"ds\", \"score\", data=west_as_df, label=\"West Asia\")\n",
    "plt.title(\"Performance of the different Asian regions\")\n",
    "plt.xlabel(\"year\")\n",
    "plt.ylabel(\"performance\")\n",
    "ax.legend()"
   ]
  },
  {
   "cell_type": "markdown",
   "metadata": {},
   "source": [
    "### Europe"
   ]
  },
  {
   "cell_type": "markdown",
   "metadata": {},
   "source": [
    "Creating dataframe for __Eastern Europe__"
   ]
  },
  {
   "cell_type": "code",
   "execution_count": 61,
   "metadata": {},
   "outputs": [],
   "source": [
    "data_east_eu = [['2016', df16[df16[\"region\"] == \"east_eu\"][\"total_score\"].median()], \n",
    "        ['2017', df17[df17[\"region\"] == \"east_eu\"][\"total_score\"].median()], \n",
    "        ['2018', df18[df18[\"region\"] == \"east_eu\"][\"total_score\"].median()], \n",
    "        ['2019', df19[df19[\"region\"] == \"east_eu\"][\"total_score\"].median()], \n",
    "        ['2020', df20[df20[\"region\"] == \"east_eu\"][\"total_score\"].median()]]\n",
    "east_eu_df = pd.DataFrame(data_east_eu, columns = ['ds', 'score']) "
   ]
  },
  {
   "cell_type": "markdown",
   "metadata": {},
   "source": [
    "Creating dataframe for __Northern Europe__"
   ]
  },
  {
   "cell_type": "code",
   "execution_count": 62,
   "metadata": {},
   "outputs": [],
   "source": [
    "data_north_eu = [['2016', df16[df16[\"region\"] == \"nor_eu\"][\"total_score\"].median()], \n",
    "        ['2017', df17[df17[\"region\"] == \"nor_eu\"][\"total_score\"].median()], \n",
    "        ['2018', df18[df18[\"region\"] == \"nor_eu\"][\"total_score\"].median()], \n",
    "        ['2019', df19[df19[\"region\"] == \"nor_eu\"][\"total_score\"].median()], \n",
    "        ['2020', df20[df20[\"region\"] == \"nor_eu\"][\"total_score\"].median()]]\n",
    "nor_eu_df = pd.DataFrame(data_north_eu, columns = ['ds', 'score']) "
   ]
  },
  {
   "cell_type": "markdown",
   "metadata": {},
   "source": [
    "Creating dataframe for __South Europe__"
   ]
  },
  {
   "cell_type": "code",
   "execution_count": 63,
   "metadata": {},
   "outputs": [],
   "source": [
    "data_south_eu = [['2016', df16[df16[\"region\"] == \"sou_eu\"][\"total_score\"].median()], \n",
    "        ['2017', df17[df17[\"region\"] == \"sou_eu\"][\"total_score\"].median()], \n",
    "        ['2018', df18[df18[\"region\"] == \"sou_eu\"][\"total_score\"].median()], \n",
    "        ['2019', df19[df19[\"region\"] == \"sou_eu\"][\"total_score\"].median()], \n",
    "        ['2020', df20[df20[\"region\"] == \"sou_eu\"][\"total_score\"].median()]]\n",
    "sou_eu_df = pd.DataFrame(data_south_eu, columns = ['ds', 'score'])"
   ]
  },
  {
   "cell_type": "markdown",
   "metadata": {},
   "source": [
    "Creating dataframe for __Western Europe__"
   ]
  },
  {
   "cell_type": "code",
   "execution_count": 64,
   "metadata": {},
   "outputs": [],
   "source": [
    "data_west_eu = [['2016', df16[df16[\"region\"] == \"wes_eu\"][\"total_score\"].median()], \n",
    "        ['2017', df17[df17[\"region\"] == \"wes_eu\"][\"total_score\"].median()], \n",
    "        ['2018', df18[df18[\"region\"] == \"wes_eu\"][\"total_score\"].median()], \n",
    "        ['2019', df19[df19[\"region\"] == \"wes_eu\"][\"total_score\"].median()], \n",
    "        ['2020', df20[df20[\"region\"] == \"wes_eu\"][\"total_score\"].median()]]\n",
    "west_eu_df = pd.DataFrame(data_west_eu, columns = ['ds', 'score']) "
   ]
  },
  {
   "cell_type": "markdown",
   "metadata": {},
   "source": [
    "Plotting the __European performance by subregion__"
   ]
  },
  {
   "cell_type": "code",
   "execution_count": 65,
   "metadata": {},
   "outputs": [
    {
     "data": {
      "image/png": "[encoded data removed]",
      "text/plain": [
       "<Figure size 432x288 with 1 Axes>"
      ]
     },
     "metadata": {
      "needs_background": "light"
     },
     "output_type": "display_data"
    }
   ],
   "source": [
    "f, ax = plt.subplots(1, 1)\n",
    "plt.plot(\"ds\", \"score\", data=east_eu_df, label=\"East Europe\")\n",
    "plt.plot(\"ds\", \"score\", data=nor_eu_df, label=\"North Europe\")\n",
    "plt.plot(\"ds\", \"score\", data=sou_eu_df, label=\"South Europe\")\n",
    "plt.plot(\"ds\", \"score\", data=west_eu_df, label=\"West Europe\")\n",
    "plt.title(\"Performance of the different European regions\")\n",
    "plt.xlabel(\"year\")\n",
    "plt.ylabel(\"performance\")\n",
    "ax.legend();"
   ]
  },
  {
   "cell_type": "markdown",
   "metadata": {},
   "source": [
    "Creating dataframe for __Oceania__"
   ]
  },
  {
   "cell_type": "code",
   "execution_count": 66,
   "metadata": {},
   "outputs": [],
   "source": [
    "data_oceania = [['2016', df16[df16[\"region\"] == \"oceania\"][\"total_score\"].median()], \n",
    "        ['2017', df17[df17[\"region\"] == \"oceania\"][\"total_score\"].median()], \n",
    "        ['2018', df18[df18[\"region\"] == \"oceania\"][\"total_score\"].median()], \n",
    "        ['2019', df19[df19[\"region\"] == \"oceania\"][\"total_score\"].median()], \n",
    "        ['2020', df20[df20[\"region\"] == \"oceania\"][\"total_score\"].median()]]\n",
    "oceania_df = pd.DataFrame(data_oceania, columns = ['ds', 'score']) "
   ]
  },
  {
   "cell_type": "markdown",
   "metadata": {},
   "source": [
    "## Global achievement per goal - 2020"
   ]
  },
  {
   "cell_type": "code",
   "execution_count": 67,
   "metadata": {},
   "outputs": [],
   "source": [
    "data_global_sdg = [['sdg1', df20[\"sdg1_score\"].median()], \n",
    "        ['sdg2', df20[\"sdg2_score\"].median()], \n",
    "        ['sdg3', df20[\"sdg3_score\"].median()], \n",
    "        ['sdg4', df20[\"sdg4_score\"].median()], \n",
    "        ['sdg5', df20[\"sdg5_score\"].median()],\n",
    "        ['sdg6', df20[\"sdg6_score\"].median()], \n",
    "        ['sdg7', df20[\"sdg7_score\"].median()], \n",
    "        ['sdg8', df20[\"sdg8_score\"].median()], \n",
    "        ['sdg9', df20[\"sdg9_score\"].median()],\n",
    "        ['sdg10', df20[\"sdg10_score\"].median()], \n",
    "        ['sdg11', df20[\"sdg11_score\"].median()], \n",
    "        ['sdg12', df20[\"sdg12_score\"].median()], \n",
    "        ['sdg13', df20[\"sdg13_score\"].median()],\n",
    "        ['sdg14', df20[\"sdg14_score\"].median()], \n",
    "        ['sdg15', df20[\"sdg15_score\"].median()], \n",
    "        ['sdg16', df20[\"sdg16_score\"].median()], \n",
    "        ['sdg17', df20[\"sdg17_score\"].median()]]\n",
    "sdg_global_df = pd.DataFrame(data_global_sdg, columns = ['sdg', 'performance']).sort_values(\"performance\")"
   ]
  },
  {
   "cell_type": "code",
   "execution_count": 88,
   "metadata": {},
   "outputs": [
    {
     "data": {
      "text/plain": [
       "Text(0, 0.5, 'goal')"
      ]
     },
     "execution_count": 88,
     "metadata": {},
     "output_type": "execute_result"
    },
    {
     "data": {
      "image/png": "[encoded data removed]",
      "text/plain": [
       "<Figure size 720x360 with 1 Axes>"
      ]
     },
     "metadata": {},
     "output_type": "display_data"
    }
   ],
   "source": [
    "f, ax = plt.subplots(1, 1)\n",
    "plt.barh(\"sdg\", \"performance\", data=sdg_global_df, color=\"blue\")\n",
    "plt.title(\"Global achievement per goal\", fontsize = 14)\n",
    "plt.xlabel(\"performance\")\n",
    "plt.ylabel(\"goal\")"
   ]
  },
  {
   "cell_type": "markdown",
   "metadata": {},
   "source": [
    "# Forecasting model"
   ]
  },
  {
   "cell_type": "code",
   "execution_count": 69,
   "metadata": {},
   "outputs": [],
   "source": [
    "from fbprophet import Prophet"
   ]
  },
  {
   "cell_type": "code",
   "execution_count": 70,
   "metadata": {},
   "outputs": [
    {
     "data": {
      "text/html": [
       "<div>\n",
       "<style scoped>\n",
       "    .dataframe tbody tr th:only-of-type {\n",
       "        vertical-align: middle;\n",
       "    }\n",
       "\n",
       "    .dataframe tbody tr th {\n",
       "        vertical-align: top;\n",
       "    }\n",
       "\n",
       "    .dataframe thead th {\n",
       "        text-align: right;\n",
       "    }\n",
       "</style>\n",
       "<table border=\"1\" class=\"dataframe\">\n",
       "  <thead>\n",
       "    <tr style=\"text-align: right;\">\n",
       "      <th></th>\n",
       "      <th>ds</th>\n",
       "      <th>yhat</th>\n",
       "      <th>yhat_lower</th>\n",
       "      <th>yhat_upper</th>\n",
       "    </tr>\n",
       "  </thead>\n",
       "  <tbody>\n",
       "    <tr>\n",
       "      <th>0</th>\n",
       "      <td>2016-01-01</td>\n",
       "      <td>54.772961</td>\n",
       "      <td>54.772961</td>\n",
       "      <td>54.772961</td>\n",
       "    </tr>\n",
       "    <tr>\n",
       "      <th>1</th>\n",
       "      <td>2017-01-01</td>\n",
       "      <td>59.382408</td>\n",
       "      <td>59.382408</td>\n",
       "      <td>59.382408</td>\n",
       "    </tr>\n",
       "    <tr>\n",
       "      <th>2</th>\n",
       "      <td>2018-01-01</td>\n",
       "      <td>59.228779</td>\n",
       "      <td>59.228779</td>\n",
       "      <td>59.228779</td>\n",
       "    </tr>\n",
       "    <tr>\n",
       "      <th>3</th>\n",
       "      <td>2019-01-01</td>\n",
       "      <td>59.546029</td>\n",
       "      <td>59.546029</td>\n",
       "      <td>59.546029</td>\n",
       "    </tr>\n",
       "    <tr>\n",
       "      <th>4</th>\n",
       "      <td>2020-01-01</td>\n",
       "      <td>61.425798</td>\n",
       "      <td>61.425798</td>\n",
       "      <td>61.425798</td>\n",
       "    </tr>\n",
       "    <tr>\n",
       "      <th>5</th>\n",
       "      <td>2020-12-31</td>\n",
       "      <td>63.909611</td>\n",
       "      <td>63.749673</td>\n",
       "      <td>64.055068</td>\n",
       "    </tr>\n",
       "    <tr>\n",
       "      <th>6</th>\n",
       "      <td>2021-12-31</td>\n",
       "      <td>67.000259</td>\n",
       "      <td>66.229617</td>\n",
       "      <td>67.759440</td>\n",
       "    </tr>\n",
       "    <tr>\n",
       "      <th>7</th>\n",
       "      <td>2022-12-31</td>\n",
       "      <td>70.699484</td>\n",
       "      <td>69.142315</td>\n",
       "      <td>72.253890</td>\n",
       "    </tr>\n",
       "    <tr>\n",
       "      <th>8</th>\n",
       "      <td>2023-12-31</td>\n",
       "      <td>75.007987</td>\n",
       "      <td>72.385553</td>\n",
       "      <td>77.503601</td>\n",
       "    </tr>\n",
       "    <tr>\n",
       "      <th>9</th>\n",
       "      <td>2024-12-31</td>\n",
       "      <td>73.202708</td>\n",
       "      <td>69.304097</td>\n",
       "      <td>76.737492</td>\n",
       "    </tr>\n",
       "    <tr>\n",
       "      <th>10</th>\n",
       "      <td>2025-12-31</td>\n",
       "      <td>76.293356</td>\n",
       "      <td>71.141055</td>\n",
       "      <td>81.328633</td>\n",
       "    </tr>\n",
       "    <tr>\n",
       "      <th>11</th>\n",
       "      <td>2026-12-31</td>\n",
       "      <td>79.992582</td>\n",
       "      <td>73.298307</td>\n",
       "      <td>86.482284</td>\n",
       "    </tr>\n",
       "    <tr>\n",
       "      <th>12</th>\n",
       "      <td>2027-12-31</td>\n",
       "      <td>84.301084</td>\n",
       "      <td>75.773474</td>\n",
       "      <td>92.465972</td>\n",
       "    </tr>\n",
       "    <tr>\n",
       "      <th>13</th>\n",
       "      <td>2028-12-31</td>\n",
       "      <td>82.495806</td>\n",
       "      <td>72.086169</td>\n",
       "      <td>92.610972</td>\n",
       "    </tr>\n",
       "    <tr>\n",
       "      <th>14</th>\n",
       "      <td>2029-12-31</td>\n",
       "      <td>85.586453</td>\n",
       "      <td>73.389493</td>\n",
       "      <td>97.694083</td>\n",
       "    </tr>\n",
       "  </tbody>\n",
       "</table>\n",
       "</div>"
      ],
      "text/plain": [
       "           ds       yhat  yhat_lower  yhat_upper\n",
       "0  2016-01-01  54.772961   54.772961   54.772961\n",
       "1  2017-01-01  59.382408   59.382408   59.382408\n",
       "2  2018-01-01  59.228779   59.228779   59.228779\n",
       "3  2019-01-01  59.546029   59.546029   59.546029\n",
       "4  2020-01-01  61.425798   61.425798   61.425798\n",
       "5  2020-12-31  63.909611   63.749673   64.055068\n",
       "6  2021-12-31  67.000259   66.229617   67.759440\n",
       "7  2022-12-31  70.699484   69.142315   72.253890\n",
       "8  2023-12-31  75.007987   72.385553   77.503601\n",
       "9  2024-12-31  73.202708   69.304097   76.737492\n",
       "10 2025-12-31  76.293356   71.141055   81.328633\n",
       "11 2026-12-31  79.992582   73.298307   86.482284\n",
       "12 2027-12-31  84.301084   75.773474   92.465972\n",
       "13 2028-12-31  82.495806   72.086169   92.610972\n",
       "14 2029-12-31  85.586453   73.389493   97.694083"
      ]
     },
     "execution_count": 70,
     "metadata": {},
     "output_type": "execute_result"
    }
   ],
   "source": [
    "# Global prediction\n",
    "m = Prophet(seasonality_mode='additive', yearly_seasonality=True, interval_width=0.8, \n",
    "            n_changepoints=2, weekly_seasonality=False, daily_seasonality=False)\n",
    "m.fit(global_df)\n",
    "future = m.make_future_dataframe(periods=10, freq=\"Y\")\n",
    "\n",
    "fcst = m.predict(future)\n",
    "fcst[['ds', 'yhat', 'yhat_lower', 'yhat_upper']]"
   ]
  },
  {
   "cell_type": "code",
   "execution_count": 71,
   "metadata": {},
   "outputs": [
    {
     "data": {
      "image/png": "[encoded data removed]",
      "text/plain": [
       "<Figure size 504x216 with 1 Axes>"
      ]
     },
     "metadata": {},
     "output_type": "display_data"
    }
   ],
   "source": [
    "# Plotting the forescasting model\n",
    "sns.set_style('darkgrid', {'axes.facecolor': '.9'})\n",
    "fig = m.plot(fcst, figsize=(7,3), ylabel=\"SDG performance\", xlabel=\"year\")\n",
    "plt.title(\"Global prediction for SDGs achievement by 2030\", fontsize=14, fontweight=\"bold\")\n",
    "plt.show()"
   ]
  },
  {
   "cell_type": "code",
   "execution_count": 72,
   "metadata": {},
   "outputs": [
    {
     "data": {
      "image/png": "[encoded data removed]",
      "text/plain": [
       "<Figure size 648x432 with 2 Axes>"
      ]
     },
     "metadata": {},
     "output_type": "display_data"
    }
   ],
   "source": [
    "fig2 = m.plot_components(fcst)"
   ]
  },
  {
   "cell_type": "markdown",
   "metadata": {},
   "source": [
    "### Validating the model with the first 3 years"
   ]
  },
  {
   "cell_type": "code",
   "execution_count": 75,
   "metadata": {},
   "outputs": [
    {
     "name": "stderr",
     "output_type": "stream",
     "text": [
      "INFO:fbprophet:Disabling weekly seasonality. Run prophet with weekly_seasonality=True to override this.\n",
      "INFO:fbprophet:Disabling daily seasonality. Run prophet with daily_seasonality=True to override this.\n",
      "INFO:fbprophet:n_changepoints greater than number of observations. Using 1.\n"
     ]
    },
    {
     "data": {
      "text/html": [
       "<div>\n",
       "<style scoped>\n",
       "    .dataframe tbody tr th:only-of-type {\n",
       "        vertical-align: middle;\n",
       "    }\n",
       "\n",
       "    .dataframe tbody tr th {\n",
       "        vertical-align: top;\n",
       "    }\n",
       "\n",
       "    .dataframe thead th {\n",
       "        text-align: right;\n",
       "    }\n",
       "</style>\n",
       "<table border=\"1\" class=\"dataframe\">\n",
       "  <thead>\n",
       "    <tr style=\"text-align: right;\">\n",
       "      <th></th>\n",
       "      <th>ds</th>\n",
       "      <th>yhat</th>\n",
       "      <th>yhat_lower</th>\n",
       "      <th>yhat_upper</th>\n",
       "    </tr>\n",
       "  </thead>\n",
       "  <tbody>\n",
       "    <tr>\n",
       "      <th>0</th>\n",
       "      <td>2016-01-01</td>\n",
       "      <td>54.772961</td>\n",
       "      <td>54.772961</td>\n",
       "      <td>54.772961</td>\n",
       "    </tr>\n",
       "    <tr>\n",
       "      <th>1</th>\n",
       "      <td>2017-01-01</td>\n",
       "      <td>59.382408</td>\n",
       "      <td>59.382408</td>\n",
       "      <td>59.382408</td>\n",
       "    </tr>\n",
       "    <tr>\n",
       "      <th>2</th>\n",
       "      <td>2018-01-01</td>\n",
       "      <td>59.228779</td>\n",
       "      <td>59.228778</td>\n",
       "      <td>59.228779</td>\n",
       "    </tr>\n",
       "    <tr>\n",
       "      <th>3</th>\n",
       "      <td>2018-12-31</td>\n",
       "      <td>55.164824</td>\n",
       "      <td>55.164824</td>\n",
       "      <td>55.164825</td>\n",
       "    </tr>\n",
       "    <tr>\n",
       "      <th>4</th>\n",
       "      <td>2019-12-31</td>\n",
       "      <td>55.567965</td>\n",
       "      <td>55.567964</td>\n",
       "      <td>55.567966</td>\n",
       "    </tr>\n",
       "  </tbody>\n",
       "</table>\n",
       "</div>"
      ],
      "text/plain": [
       "          ds       yhat  yhat_lower  yhat_upper\n",
       "0 2016-01-01  54.772961   54.772961   54.772961\n",
       "1 2017-01-01  59.382408   59.382408   59.382408\n",
       "2 2018-01-01  59.228779   59.228778   59.228779\n",
       "3 2018-12-31  55.164824   55.164824   55.164825\n",
       "4 2019-12-31  55.567965   55.567964   55.567966"
      ]
     },
     "execution_count": 75,
     "metadata": {},
     "output_type": "execute_result"
    }
   ],
   "source": [
    "global_df_test = global_df.loc[0:2].copy() # Creating a subset of the df\n",
    "\n",
    "#Initializing the model and making predictions\n",
    "m = Prophet(seasonality_mode='additive', yearly_seasonality=True, interval_width=0.95)\n",
    "m.fit(global_df_test)\n",
    "future = m.make_future_dataframe(periods=2, freq=\"Y\")\n",
    "\n",
    "fcst_test = m.predict(future)\n",
    "fcst_test[['ds', 'yhat', 'yhat_lower', 'yhat_upper']]"
   ]
  },
  {
   "cell_type": "code",
   "execution_count": 77,
   "metadata": {},
   "outputs": [],
   "source": [
    "# Placing the information in a df\n",
    "y_col = global_df[\"y\"]\n",
    "fcst_test[\"y\"] = y_col\n",
    "fcst_test = fcst_test.loc[:, [\"ds\", \"y\", \"trend\", \"yhat\", \"yhat_upper\", \"yhat_lower\"]]"
   ]
  },
  {
   "cell_type": "code",
   "execution_count": 78,
   "metadata": {},
   "outputs": [
    {
     "name": "stdout",
     "output_type": "stream",
     "text": [
      "MAE yhat\t: 2.0478074997695956\n",
      "MAE trend\t: 56.41039502157789\n",
      "MAE yhat_lower: 2.047807805886248\n",
      "MAE yhat_upper: 2.0478072572510344\n"
     ]
    }
   ],
   "source": [
    "print(\"MAE yhat\\t: {}\\nMAE trend\\t: {}\\nMAE yhat_lower: {}\\nMAE yhat_upper: {}\".format(\n",
    "    mean_absolute_error(fcst_test['y'].values,fcst_test['yhat']),\n",
    "    mean_absolute_error(fcst_test['y'].values,fcst_test['trend']),\n",
    "    mean_absolute_error(fcst_test['y'].values,fcst_test['yhat_lower']),\n",
    "    mean_absolute_error(fcst_test['y'].values,fcst_test['yhat_upper'])))"
   ]
  },
  {
   "cell_type": "code",
   "execution_count": 79,
   "metadata": {},
   "outputs": [
    {
     "name": "stdout",
     "output_type": "stream",
     "text": [
      "RMSE yhat\t: 10.701831736757896\n",
      "RMSE trend\t: 3183.4916252521584\n",
      "RMSE yhat_lower: 10.701834993746228\n",
      "RMSE yhat_upper: 10.701828977488523\n"
     ]
    }
   ],
   "source": [
    "print(\"RMSE yhat\\t: {}\\nRMSE trend\\t: {}\\nRMSE yhat_lower: {}\\nRMSE yhat_upper: {}\".format(\n",
    "    mean_squared_error(fcst_test['y'].values,fcst_test['yhat']),\n",
    "    mean_squared_error(fcst_test['y'].values,fcst_test['trend']),\n",
    "    mean_squared_error(fcst_test['y'].values,fcst_test['yhat_lower']),\n",
    "    mean_squared_error(fcst_test['y'].values,fcst_test['yhat_upper'])))"
   ]
  },
  {
   "cell_type": "markdown",
   "metadata": {},
   "source": [
    "### Validating the model with the first 4 years"
   ]
  },
  {
   "cell_type": "code",
   "execution_count": 82,
   "metadata": {},
   "outputs": [
    {
     "name": "stderr",
     "output_type": "stream",
     "text": [
      "INFO:fbprophet:Disabling weekly seasonality. Run prophet with weekly_seasonality=True to override this.\n",
      "INFO:fbprophet:Disabling daily seasonality. Run prophet with daily_seasonality=True to override this.\n",
      "INFO:fbprophet:n_changepoints greater than number of observations. Using 2.\n"
     ]
    },
    {
     "data": {
      "text/html": [
       "<div>\n",
       "<style scoped>\n",
       "    .dataframe tbody tr th:only-of-type {\n",
       "        vertical-align: middle;\n",
       "    }\n",
       "\n",
       "    .dataframe tbody tr th {\n",
       "        vertical-align: top;\n",
       "    }\n",
       "\n",
       "    .dataframe thead th {\n",
       "        text-align: right;\n",
       "    }\n",
       "</style>\n",
       "<table border=\"1\" class=\"dataframe\">\n",
       "  <thead>\n",
       "    <tr style=\"text-align: right;\">\n",
       "      <th></th>\n",
       "      <th>ds</th>\n",
       "      <th>yhat</th>\n",
       "      <th>yhat_lower</th>\n",
       "      <th>yhat_upper</th>\n",
       "    </tr>\n",
       "  </thead>\n",
       "  <tbody>\n",
       "    <tr>\n",
       "      <th>0</th>\n",
       "      <td>2016-01-01</td>\n",
       "      <td>54.772961</td>\n",
       "      <td>54.772961</td>\n",
       "      <td>54.772961</td>\n",
       "    </tr>\n",
       "    <tr>\n",
       "      <th>1</th>\n",
       "      <td>2017-01-01</td>\n",
       "      <td>59.382408</td>\n",
       "      <td>59.382408</td>\n",
       "      <td>59.382408</td>\n",
       "    </tr>\n",
       "    <tr>\n",
       "      <th>2</th>\n",
       "      <td>2018-01-01</td>\n",
       "      <td>59.228779</td>\n",
       "      <td>59.228778</td>\n",
       "      <td>59.228779</td>\n",
       "    </tr>\n",
       "    <tr>\n",
       "      <th>3</th>\n",
       "      <td>2019-01-01</td>\n",
       "      <td>59.546029</td>\n",
       "      <td>59.546029</td>\n",
       "      <td>59.546029</td>\n",
       "    </tr>\n",
       "    <tr>\n",
       "      <th>4</th>\n",
       "      <td>2019-12-31</td>\n",
       "      <td>58.384885</td>\n",
       "      <td>58.201536</td>\n",
       "      <td>58.580557</td>\n",
       "    </tr>\n",
       "    <tr>\n",
       "      <th>5</th>\n",
       "      <td>2020-12-31</td>\n",
       "      <td>60.806215</td>\n",
       "      <td>60.303228</td>\n",
       "      <td>61.310462</td>\n",
       "    </tr>\n",
       "    <tr>\n",
       "      <th>6</th>\n",
       "      <td>2021-12-31</td>\n",
       "      <td>61.741992</td>\n",
       "      <td>60.793495</td>\n",
       "      <td>62.640124</td>\n",
       "    </tr>\n",
       "    <tr>\n",
       "      <th>7</th>\n",
       "      <td>2022-12-31</td>\n",
       "      <td>62.875815</td>\n",
       "      <td>61.382180</td>\n",
       "      <td>64.291548</td>\n",
       "    </tr>\n",
       "    <tr>\n",
       "      <th>8</th>\n",
       "      <td>2023-12-31</td>\n",
       "      <td>64.202669</td>\n",
       "      <td>62.091935</td>\n",
       "      <td>66.245286</td>\n",
       "    </tr>\n",
       "    <tr>\n",
       "      <th>9</th>\n",
       "      <td>2024-12-31</td>\n",
       "      <td>66.623998</td>\n",
       "      <td>63.795733</td>\n",
       "      <td>69.336835</td>\n",
       "    </tr>\n",
       "    <tr>\n",
       "      <th>10</th>\n",
       "      <td>2025-12-31</td>\n",
       "      <td>67.559776</td>\n",
       "      <td>64.002727</td>\n",
       "      <td>70.917682</td>\n",
       "    </tr>\n",
       "    <tr>\n",
       "      <th>11</th>\n",
       "      <td>2026-12-31</td>\n",
       "      <td>68.693599</td>\n",
       "      <td>64.390411</td>\n",
       "      <td>72.552394</td>\n",
       "    </tr>\n",
       "    <tr>\n",
       "      <th>12</th>\n",
       "      <td>2027-12-31</td>\n",
       "      <td>70.020453</td>\n",
       "      <td>64.879701</td>\n",
       "      <td>74.584489</td>\n",
       "    </tr>\n",
       "    <tr>\n",
       "      <th>13</th>\n",
       "      <td>2028-12-31</td>\n",
       "      <td>72.441782</td>\n",
       "      <td>66.488203</td>\n",
       "      <td>77.715183</td>\n",
       "    </tr>\n",
       "    <tr>\n",
       "      <th>14</th>\n",
       "      <td>2029-12-31</td>\n",
       "      <td>73.377560</td>\n",
       "      <td>66.447818</td>\n",
       "      <td>79.581143</td>\n",
       "    </tr>\n",
       "  </tbody>\n",
       "</table>\n",
       "</div>"
      ],
      "text/plain": [
       "           ds       yhat  yhat_lower  yhat_upper\n",
       "0  2016-01-01  54.772961   54.772961   54.772961\n",
       "1  2017-01-01  59.382408   59.382408   59.382408\n",
       "2  2018-01-01  59.228779   59.228778   59.228779\n",
       "3  2019-01-01  59.546029   59.546029   59.546029\n",
       "4  2019-12-31  58.384885   58.201536   58.580557\n",
       "5  2020-12-31  60.806215   60.303228   61.310462\n",
       "6  2021-12-31  61.741992   60.793495   62.640124\n",
       "7  2022-12-31  62.875815   61.382180   64.291548\n",
       "8  2023-12-31  64.202669   62.091935   66.245286\n",
       "9  2024-12-31  66.623998   63.795733   69.336835\n",
       "10 2025-12-31  67.559776   64.002727   70.917682\n",
       "11 2026-12-31  68.693599   64.390411   72.552394\n",
       "12 2027-12-31  70.020453   64.879701   74.584489\n",
       "13 2028-12-31  72.441782   66.488203   77.715183\n",
       "14 2029-12-31  73.377560   66.447818   79.581143"
      ]
     },
     "execution_count": 82,
     "metadata": {},
     "output_type": "execute_result"
    }
   ],
   "source": [
    "global_df_test4 = global_df.loc[0:3].copy() #Creating subset of the df\n",
    "\n",
    "# Initializing the model and making predictions\n",
    "m = Prophet(seasonality_mode='additive', yearly_seasonality=True, interval_width=0.95)\n",
    "m.fit(global_df_test4)\n",
    "future = m.make_future_dataframe(periods=11, freq=\"Y\")\n",
    "\n",
    "fcst_test_val4 = m.predict(future)\n",
    "fcst_test_val4[['ds', 'yhat', 'yhat_lower', 'yhat_upper']]"
   ]
  },
  {
   "cell_type": "code",
   "execution_count": 83,
   "metadata": {
    "scrolled": true
   },
   "outputs": [],
   "source": [
    "# Creating df to plot both predictions\n",
    "yhat_pred = fcst[\"yhat\"]\n",
    "yhat_test3 = fcst_test_val[\"yhat\"]\n",
    "yhat_test4 = fcst_test_val4[\"yhat\"]\n",
    "ds = fcst[\"ds\"]\n",
    "val_df = pd.concat([ds, yhat_pred, yhat_test3, yhat_test4], axis=1)\n",
    "val_df.columns = [\"ds\", \"yhat_pred\", \"yhat_test3\", \"yhat_test4\"]"
   ]
  },
  {
   "cell_type": "code",
   "execution_count": 85,
   "metadata": {
    "scrolled": true
   },
   "outputs": [
    {
     "data": {
      "image/png": "[encoded data removed]",
      "text/plain": [
       "<Figure size 720x360 with 1 Axes>"
      ]
     },
     "metadata": {},
     "output_type": "display_data"
    }
   ],
   "source": [
    "# Plotting the difference\n",
    "sns.set(rc={'figure.figsize':(10,5)})\n",
    "sns.set_palette(\"hls\", n_colors=3)\n",
    "labels=[\"Model trained with 5 years\", \"Model trained with 4 years\", \"Model trained with 3 years\"]\n",
    "sns.lineplot(x = \"ds\", y = \"yhat_pred\", data = val_df, \n",
    "            dashes = False, markers = [\"o\", \"<\"],  legend=\"brief\",)\n",
    "sns.lineplot(x = \"ds\", y = \"yhat_test4\", data = val_df, dashes = False, \n",
    "            markers = [\"o\", \"<\"],  legend=\"brief\")\n",
    "sns.lineplot(x = \"ds\", y = \"yhat_test3\", data = val_df)\n",
    "plt.title(\"Difference of the models' training\", fontsize = 20)\n",
    "plt.xlabel(\"Year\", fontsize = 15)\n",
    "plt.ylabel(\"SDG Index\", fontsize = 15)\n",
    "plt.legend(labels)\n",
    "plt.show()"
   ]
  },
  {
   "cell_type": "code",
   "execution_count": 86,
   "metadata": {},
   "outputs": [
    {
     "name": "stdout",
     "output_type": "stream",
     "text": [
      "Mean squared error is: 61.71940315498848\n"
     ]
    }
   ],
   "source": [
    "msq = mean_squared_error(val_df['yhat_pred'].values,val_df['yhat_test4'])\n",
    "print(\"Mean squared error is:\", msq)"
   ]
  },
  {
   "cell_type": "code",
   "execution_count": 87,
   "metadata": {},
   "outputs": [
    {
     "name": "stdout",
     "output_type": "stream",
     "text": [
      "Mean absolute error is: 6.212425600678698\n"
     ]
    }
   ],
   "source": [
    "mae = mean_absolute_error(val_df['yhat_pred'].values,val_df['yhat_test4'])\n",
    "print(\"Mean absolute error is:\", mae)"
   ]
  }
 ],
 "metadata": {
  "kernelspec": {
   "display_name": "Python 3",
   "language": "python",
   "name": "python3"
  },
  "language_info": {
   "codemirror_mode": {
    "name": "ipython",
    "version": 3
   },
   "file_extension": ".py",
   "mimetype": "text/x-python",
   "name": "python",
   "nbconvert_exporter": "python",
   "pygments_lexer": "ipython3",
   "version": "3.8.3"
  },
  "toc": {
   "base_numbering": 1,
   "nav_menu": {},
   "number_sections": true,
   "sideBar": true,
   "skip_h1_title": false,
   "title_cell": "Table of Contents",
   "title_sidebar": "Contents",
   "toc_cell": false,
   "toc_position": {
    "height": "calc(100% - 180px)",
    "left": "10px",
    "top": "150px",
    "width": "178.821px"
   },
   "toc_section_display": true,
   "toc_window_display": true
  }
 },
 "nbformat": 4,
 "nbformat_minor": 4
}
